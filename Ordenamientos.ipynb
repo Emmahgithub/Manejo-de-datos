{
  "nbformat": 4,
  "nbformat_minor": 0,
  "metadata": {
    "colab": {
      "provenance": [],
      "toc_visible": true
    },
    "kernelspec": {
      "name": "python3",
      "display_name": "Python 3"
    },
    "language_info": {
      "name": "python"
    }
  },
  "cells": [
    {
      "cell_type": "markdown",
      "source": [
        "<font color=\"Teal\" face=\"Century Ghothic\">\n",
        "  <h1 align=\"center\"><i>Algoritmos de ordenamiento</i></h1>\n",
        "</font>\n",
        "<font color=\"Black\" face=\"Arial\">\n",
        "  <h5 align=\"center\"><i>Vargas Bautista Emmanuel</i></h5>\n",
        "  <h5 align=\"center\"><i>Materia: Manejo de Datos</i></h5>\n",
        "</font>\n",
        "\n",
        "\n"
      ],
      "metadata": {
        "id": "a-OHL-hWiT5x"
      }
    },
    {
      "cell_type": "markdown",
      "source": [
        "#Descripción de los algoritmos"
      ],
      "metadata": {
        "id": "3QtDFK11N88U"
      }
    },
    {
      "cell_type": "markdown",
      "source": [
        "\n",
        "\n",
        "**1. Selection Sort**\n",
        "\n",
        "1.   Primero selecciona el elemento minimo del arreglo no ordenado y lo intercambia con el primer elemento del arreglo recorriendo a  los demas elementos un lugar a la derecha.\n",
        "2.   Luego busca el elemento minimo sin contar el primer elemento que ya esta ordenado y lo intercambia hasta dejarlo a la derecha del primer elemento ya ordenado del arreglo\n",
        "3.   Se repite el proceso hasta que todo arreglo este ordenado. En cada iteracion, los elementos ordenados quedan del lado izquierdo y del lado derecho tiene los elementos sin ordenar.\n",
        "\n",
        "**2. Insertion Sort**\n",
        "\n",
        "1.   Toca el primer elemento del arreglo considerando que ya esta ordenado en el arreglo\n",
        "2.   Continua el proceso de izquierda a derecha, si el elemento seleccionado es menor que los elementos de la parte ordenada, se desplaza los elementos mayores hacia la derecha para hacer espacio para el elemento seleccionado\n",
        "3.   Se repite el proceso hasta que todos los elementos esten en la parte ordenada\n",
        "\n",
        "\n",
        "**3. Bubble Sort**\n",
        "\n",
        "1.  Primero compara el primer elemento con el segundo, luego el segundo con el tercero, y asi sucesivamente, hasta el penultimo elemento del arreglo\n",
        "2.  Si un elemento es mayor que el siguiente entonces los intercambia de tal forma que los elementos mas grandes los manda hacia el final del arreglo\n",
        "3.  Se repiten los pasos 1 y 2 para todo el arreglo teniendo el elemento mas grande en el ultimo lugar.\n",
        "\n",
        "\n",
        "**4. Merge Sort**\n",
        "\n",
        "1. Divide el arreglo en dos mitades del mismo tamaño hasta que los elementos queden en parejas, es decir, cada subconjunto tenga solo dos elementos.\n",
        "2. Ordena cada mitad de manera recursiva utilizando el mismo algoritmo\n",
        "3. Una vez que las mitades estan ordenadas las combina en un solo arreglo ordenando, combinando y fusionando los elementos de ambas mitades en orden\n",
        "\n",
        "\n",
        "**5. Quick Sort**\n",
        "\n",
        "1. Selecciona un elemento del arreglo como pivote, el pivote divide el arreglo en dos subarreglos uno contiene elementos menores que el pivote y el otro contiene elementos mayores que el pivote\n",
        "2. Se reorganizan los elementos quedando del lado izquierdo los elementos menores que el pivote y del lado derecho los elementos mayores que el pivote dejando al pivote en su posicion final\n",
        "3. Se realiza el proceso de manera recursiva a los subarreglos del lado izquierdo y derecho\n",
        "4. Se repite 1, 2 y 3 hasta que el arreglo este ordenado"
      ],
      "metadata": {
        "id": "n-tQGnUgrm8t"
      }
    },
    {
      "cell_type": "markdown",
      "source": [
        "#Análisis de los algoritmos"
      ],
      "metadata": {
        "id": "OMLthqHPjyMJ"
      }
    },
    {
      "cell_type": "markdown",
      "source": [
        "1. **SelectionSort**:\n",
        "   - Peor caso: O(n^2)\n",
        "   \n",
        "   Realiza una cantidad cuadrática de comparaciones y movimientos de elementos. Esto ocurre cuando el arreglo está invertido,así que requiere una comparación completa en cada paso para seleccionar el elemento mínimo y luego realizar un intercambio.\n",
        "\n",
        "   Tiempos:\n",
        "\n",
        "\n",
        "Lista de tamaño 10:\n",
        "SelectionSort: -0.0029509669998333266 segundos\n",
        "\n",
        "Lista de tamaño 20:\n",
        "SelectionSort: -0.0001484829999753856 segundos\n",
        "\n",
        "\n",
        "Lista de tamaño 30:\n",
        "SelectionSort: -0.0007122950000848505 segundos\n",
        "\n",
        "2. **InsertionSort**:\n",
        "   - Peor caso: O(n^2)\n",
        "\n",
        "  También realiza O(n^2) comparaciones e intercambios. Esto sucede cuando el arreglo está ordenado de manera inversa, ya que en cada iteración debe mover el elemento actual hasta su posición correcta, lo que implica desplazar todos los elementos mayores hacia la derecha.\n",
        "\n",
        "  Tiempos:\n",
        "\n",
        "Lista de tamaño 10:\n",
        "InserSort: -0.012817841000469343 segundos\n",
        "\n",
        "\n",
        "Lista de tamaño 20:\n",
        "InserSort: -0.0012054849994456163 segundos\n",
        "\n",
        "\n",
        "Lista de tamaño 30:\n",
        "InserSort: 0.00021934500000497792 segundos\n",
        "\n",
        "3. **BubbleSort**:\n",
        "   - Peor caso: O(n^2)\n",
        "\n",
        "   Cuando el arreglo está ordenado en orden inverso. Se necesita realizar un gran número de comparaciones y swaps para llevar el elemento más grande hasta su posición final.\n",
        "\n",
        "   Tiempos:\n",
        "\n",
        "\n",
        "   Lista de tamaño 10:\n",
        "bubbleSort: -0.0006528089998028008 segundos\n",
        "\n",
        "\n",
        "Lista de tamaño 20:\n",
        "bubbleSort: -0.00234182799977134 segundos\n",
        "\n",
        "\n",
        "Lista de tamaño 30:\n",
        "bubbleSort: -0.0011675400000967784 segundos\n",
        "\n",
        "4. **MergeSort**:\n",
        "   - Peor caso: O(n log n)\n",
        "\n",
        "   Se basa en dividir el arreglo por la mitad, de forma recursiva hasta llegar a listas individuales para despues mezclarlas. El peor caso es aquel donde esta ordenado de manera inversa ya que al mezclarlas aun que realizara menor numero de operaciones al final tendra un comportamiento parecido a los 3 anteriores.\n",
        "\n",
        "   Tiempos:\n",
        "\n",
        "Lista de tamaño 10:\n",
        "MergeSort: -0.006690658000479743 segundos\n",
        "\n",
        "\n",
        "Lista de tamaño 20:\n",
        "MergeSort: -0.0013983850003569387 segundos\n",
        "\n",
        "\n",
        "Lista de tamaño 30:\n",
        "MergeSort: -0.0001070060006895801 segundos\n",
        "\n",
        "5. **QuickSort**:\n",
        "   - Peor caso: O(n^2)\n",
        "\n",
        "   Si el pivote elegido en cada iteración es el elemento más grande o más pequeño del arreglo y su vez esta ordenada en el orden inverso al que se quiere tendra un comportamiento muy similar al de SeleccionSort.\n",
        "\n",
        "\n",
        "   Tiempos:\n",
        "\n",
        "\n",
        "Lista de tamaño 10:\n",
        "quickSort: -0.004123529000025883 segundos\n",
        "\n",
        "\n",
        "Lista de tamaño 20:\n",
        "quickSort: -1.4234000445867423e-05 segundos\n",
        "\n",
        "\n",
        "Lista de tamaño 30:\n",
        "quickSort: -7.949999962875154e-05 segundos\n"
      ],
      "metadata": {
        "id": "aBSCGplkKO5X"
      }
    },
    {
      "cell_type": "markdown",
      "source": [
        "#Clasificación de los algoritmos"
      ],
      "metadata": {
        "id": "5hRbt-mYMS-H"
      }
    },
    {
      "cell_type": "markdown",
      "source": [
        "##InserSort\n",
        "\n",
        "Para esto notemos como funciona el algoritmo y ademas veamos que ocurre considerando el peor caso.\n",
        "\n",
        "Notemos que el peor caso para este algoritmo es que esten ordenados de manera inversa por lo que este tendria que comparar uno a uno hasta acomodarlo en su respectivo lugar y de esta manera con cada 1 por lo que me gustaria hacer notar que pasaria primero en un caso sencillo para una lista de 3 elementos\n",
        "\n",
        "Sea la lista = [3, 2, 1]\n",
        "\n",
        "Notemos que tendria que realizar el siguiente numero de comparaciones\n",
        "\n",
        "Primero comparara el 3 con el 2 y lo cambiara por lo tanto realizo 1 operacion, pero aun el 3 no esta en su lugar por lo que compararia el 3 con 1 y volveria a hacer el cambio, ya van 2 operaciones por lo que el 2 y el 1 siguen invertidos bastaria con volver a realizar la operacion para que la lista quede ordenada notemos que el numero de operaciones que realizo en un lista de 3 elementos fue 2 + 1, con esto notemos que segun el numero de elementos en la lista lo que hace es sumar empezando desde $n-1$ donde $n$ es el numero de elementos que tiene la lista.\n",
        "\n",
        "Generalizando el numero de operaciones que necesita Seleccion Sort para ordenar una lista de $n$ elementos no es muy dificil darse cuenta que es de la siguiente forma, ademas denotare apartir de este momento llamare $T(n)$ a cuanto tardara un algoritmo en ordenar una lista en su peor caso.\n",
        "\n",
        "$$T(n) = \\sum_{i=1}^{n-1}i$$\n",
        "\n",
        "Ahora sabemos que esto es una serie geometrica finita por lo que converge y a su vez es de la forma\n",
        "\n",
        "$$T(n) = \\sum_{i=1}^{n-1}i = \\frac{n(n-1)}{2}$$\n",
        "\n",
        "Ahora para encontrar el nivel de complejidad de este tenemos que acotarlo.\n",
        "\n",
        "Desarrollando llegamos a lo siguiente\n",
        "\n",
        "$$-\\frac{n}{2}+\\frac{n^2}{2}$$\n",
        "\n",
        "Notemos cual de estas dos expreciones crece con mayor rapidez para poder acotarla y determinar su orden de complejidad para esto notemos que si hacemos $c = \\frac{1}{2}$ y nos fijamos que $n^2$ crece mas rapido podemos determinar que nuestra cota va ser esta ultima y ademas el orden de complejidad del algoritmo es cuadratico es decir $IS\\in O(n^2)$"
      ],
      "metadata": {
        "id": "YSbFAxSbYVja"
      }
    },
    {
      "cell_type": "markdown",
      "source": [
        "##Selection Sort\n",
        "\n",
        "\n",
        "De la misma manera que en el anterior comencemos por definir como se comporta con respecto a su peor caso y a su vez definamos su funcion $T(n)$ respecto a esto ultimo, en este caso y en los demas me saltare la explicacion intuitiva por comodidad pero basta con fijarnos en pequeñas listas para ver como funciona y poder tanto determinar el peor caso como $T(n)$.\n",
        "\n",
        "El pero caso para este algoritmo es al igual que el anterior que este ordena de forma a inversa a como se quiere ordenar ya que en este caso tiene el mismo comportamiento que insertionsort por lo que la demostracion es analoga\n",
        "\n",
        "$$T(n) = \\sum_{i=1}^{n-1}i$$\n",
        "\n",
        "Ahora sabemos que esto es una serie geometrica finita por lo que converge y a su vez es de la forma\n",
        "\n",
        "$$T(n) = \\sum_{i=1}^{n-1}i = \\frac{n(n-1)}{2}$$\n",
        "\n",
        "Ahora para encontrar el nivel de complejidad de este tenemos que acotarlo.\n",
        "\n",
        "Desarrollando llegamos a lo siguiente\n",
        "\n",
        "$$-\\frac{n}{2}+\\frac{n^2}{2}$$\n",
        "\n",
        "Notemos cual de estas dos expreciones crece con mayor rapidez para poder acotarla y determinar su orden de complejidad para esto notemos que si hacemos $c = \\frac{1}{2}$ y nos fijamos que $n^2$ crece mas rapido podemos determinar que nuestra cota va ser esta ultima y ademas el orden de complejidad del algoritmo es cuadratico es decir $SS\\in O(n^2)$"
      ],
      "metadata": {
        "id": "4yTm6qxpaBbz"
      }
    },
    {
      "cell_type": "markdown",
      "source": [
        "##BubbleSort\n",
        "\n",
        "Veamos cual es el peor caso, basta con fijarnos que si estan ordenados inversamente de como ser quieren ordenar va realizar el mayor numero de operaciones ademas va tener un comportamiento siimiliar al de InsertionSort y SeleccionSort en sus peores casos por lo que la demostracion de la misma manera que la anterior es completamente analoga\n",
        "\n",
        "$$T(n) = \\sum_{i=1}^{n-1}i$$\n",
        "\n",
        "Ahora sabemos que esto es una serie geometrica finita por lo que converge y a su vez es de la forma\n",
        "\n",
        "$$T(n) = \\sum_{i=1}^{n-1}i = \\frac{n(n-1)}{2}$$\n",
        "\n",
        "Ahora para encontrar el nivel de complejidad de este tenemos que acotarlo.\n",
        "\n",
        "Desarrollando llegamos a lo siguiente\n",
        "\n",
        "$$-\\frac{n}{2}+\\frac{n^2}{2}$$\n",
        "\n",
        "Notemos cual de estas dos expreciones crece con mayor rapidez para poder acotarla y determinar su orden de complejidad para esto notemos que si hacemos $c = \\frac{1}{2}$ y nos fijamos que $n^2$ crece mas rapido podemos determinar que nuestra cota va ser esta ultima y ademas el orden de complejidad del algoritmo es cuadratico es decir $BS\\in O(n^2)$"
      ],
      "metadata": {
        "id": "v0akqfIqc8yR"
      }
    },
    {
      "cell_type": "markdown",
      "source": [
        "###Clausula acerca del comportamiento de InsertionSort, SeleccionSort y BubbleSort\n",
        "\n",
        "Aun que tengan el mismo orden de complejidad no significa que todos sean iguales o vayan a tener el mismo rendimiento siempre esta clasificacion de complejidad esta basada en el peor caso pero si no esto no sucede ninguno sera mejor que otro a decir verdad dependera del orden aun que si puedes compararlos con listas iguales y ver cuanto tiempo tardan en la seccion de punto extra agregue todo esto y se puede verificar, pero todo va depender de los casos que se presten y para dejar claro eso en la parte de punto extra deje una prueba con listas aletorias.\n"
      ],
      "metadata": {
        "id": "jHWx1wL6deGX"
      }
    },
    {
      "cell_type": "markdown",
      "source": [
        "##MergeSort\n",
        "\n",
        "Creo que para este algoritmo si es un poco importante ver como funciona con listas pequeñas para poder entenderlo de una mejor manera, pero en este caso basta con ver la descripcion del algoritmo y su analisis para saber cual es el peor caso, el cual es que este ordenados de forma inversa a si sabiendo el peor caso conociendo su codigo y ademas sabiendo como funciona podemos deducir que su funcion se ve de la siguiente manera\n",
        "\n",
        "$$T(n)=\\begin{cases}\n",
        "b & 1\\geq n\\\\\n",
        "2T(\\frac{n}{2})+a\\cdot n & n\\geq2\n",
        "\\end{cases} $$\n",
        "\n",
        "Ahora para demostrar a que orden de complejidad tiene vemamos que sucede con una lista de n elementos:\n",
        "\n",
        "$$T(n) = 2T(\\frac{n}{2})+a\\cdot n $$\n",
        "\n",
        "Notemos que podemos simplificarnos un poco el trabajando si hacemos el siguiente truco, ya que si nos damos cuenta estamos partiendo la lista entre 2 y esto lo vamos a hacer bastante seguido por lo que nos combiene ver a $n$ como potencias de 2 por lo que:\n",
        "\n",
        "Sea $n = 2^k$\n",
        "\n",
        "\n",
        "\n",
        "$$T(n)  =  2T(2^{k-1})+a\\cdot 2^k$$\n",
        "\n",
        "Repitiendo por definicion\n",
        "\n",
        "$$T(n)  = 2(2T(2^{k-2})+a\\cdot2^{k-1})+a\\cdot2^{k}$$\n",
        "\n",
        "Notemos que nos interesa llegar al paso base donde $T(1) = b$ por lo que si nos fijamos detenidamente en los exponentes llegamos a la conclusion de que para que esto pase tenemos que tener que  $b = T(1) = T(2^{0}) = T(2^{k-k})$.\n",
        "Ahora para hacer que esto suceda notemos que el algoritmo cada vez que lo ejecutamos se baja en 1 el exponente por lo que si ejecutamos el algoritmo $k$ veces llegaremos al paso base a si que hagamos esto ultimo:\n",
        "\n",
        "$$T(n) = 2^{k}T(2^{k-k})+k\\cdot a\\cdot2^{k}......2^{k-k}=1$$\n",
        "\n",
        "LLegamos a donde queriamos ahora solo es cuestion de un poco de algebra y dirigirnos hacia la definicion para tener que:\n",
        "\n",
        "$$2^{k}b+k\\cdot a\\cdot2^{k}........T(1)=b $$\n",
        "\n",
        "Ahora volviendo a lo que incialmente teniamos es decir $n = 2^k$\n",
        "\n",
        "$$n\\cdot b+k\\cdot a\\cdot n......n=2^{k}$$\n",
        "\n",
        "Notemos que si despejamos k para poder quitarla de enmedio obtenemos que $k =log_{2}n $\n",
        "\n",
        "Por lo que finalmente llegariamos a:\n",
        "\n",
        "$$T(n) = n\\cdot b+ a\\cdot n\\cdot\\log_{2}n$$\n",
        "\n",
        "Ahora para encontrar la cota y el orden de complejidad notemos que tanto $a$ como $b$ son constantes por lo qur fijemosnos que la parte que crece mas rapido es:\n",
        "\n",
        "$$a\\cdot n\\cdot\\log_{2}n$$\n",
        "\n",
        "Y ademas podemos hacer $c = a$ y con esto acotar nuestra funcion finjandonos que $MS\\in O(n\\log_{2}n)$\n",
        "\n",
        "\n"
      ],
      "metadata": {
        "id": "b5hBhOx8eT8_"
      }
    },
    {
      "cell_type": "markdown",
      "source": [
        "##QuickSort\n",
        "\n",
        "Para este algoritmo tenemos 2 casos, el primero es donde se da el peor caso el cual es que el pivote que se tome siempre sea el de algun extremos es decir este ordenada de forma ascendente o decendiente y en este caso tendra un comportamiento completamente similiar a InserSort, SeleccionSort y BubbleSort en sus peores casos por lo que la demostracion es completamente analoga a cualquiera de estos 3 y va pertencer a un orden de complejidad cuadratico, en cambio si no sucede esto la mayoria de casos va pertenecer a un orden $n\\log_2n$ la demostracion es analoga a la anterior ya que notemos que su funcion que determina el numero de operaciones que se hacen es muy parecido al anterior solo que en este caso el pivote queda completamente ordenado desde un incio:\n",
        "\n",
        "$$T(n)=\\begin{cases}\n",
        "b & 1\\geq n\\\\\n",
        "2T(\\frac{n}{2})+a\\cdot n & n\\geq2\n",
        "\\end{cases} $$\n",
        "\n",
        "Sea $n = 2^k$\n",
        "\n",
        "\n",
        "\n",
        "$$T(n)  =  2T(2^{k-1})+a\\cdot 2^k$$\n",
        "\n",
        "Repitiendo por definicion\n",
        "\n",
        "$$T(n)  = 2(2T(2^{k-2})+a\\cdot2^{k-1})+a\\cdot2^{k}$$\n",
        "\n",
        "Notemos que nos interesa llegar al paso base donde $T(1) = b$ por lo que si nos fijamos detenidamente en los exponentes llegamos a la conclusion de que para que esto pase tenemos que tener que  $b = T(1) = T(2^{0}) = T(2^{k-k})$.\n",
        "Ahora para hacer que esto suceda notemos que el algoritmo cada vez que lo ejecutamos se baja en 1 el exponente por lo que si ejecutamos el algoritmo $k$ veces llegaremos al paso base a si que hagamos esto ultimo:\n",
        "\n",
        "$$T(n) = 2^{k}T(2^{k-k})+k\\cdot a\\cdot2^{k}......2^{k-k}=1$$\n",
        "\n",
        "LLegamos a donde queriamos ahora solo es cuestion de un poco de algebra y dirigirnos hacia la definicion para tener que:\n",
        "\n",
        "$$2^{k}b+k\\cdot a\\cdot2^{k}........T(1)=b $$\n",
        "\n",
        "Ahora volviendo a lo que incialmente teniamos es decir $n = 2^k$\n",
        "\n",
        "$$n\\cdot b+k\\cdot a\\cdot n......n=2^{k}$$\n",
        "\n",
        "Notemos que si despejamos k para poder quitarla de enmedio obtenemos que $k =log_{2}n $\n",
        "\n",
        "Por lo que finalmente llegariamos a:\n",
        "\n",
        "$$T(n) = n\\cdot b+ a\\cdot n\\cdot\\log_{2}n$$\n",
        "\n",
        "Ahora para encontrar la cota y el orden de complejidad notemos que tanto $a$ como $b$ son constantes por lo qur fijemosnos que la parte que crece mas rapido es:\n",
        "\n",
        "$$a\\cdot n\\cdot\\log_{2}n$$\n",
        "\n",
        "Y ademas podemos hacer $c = a$ y con esto acotar nuestra funcion finjandonos que $QS\\in O(n\\log_{2}n)$"
      ],
      "metadata": {
        "id": "WqjboZyhoKYP"
      }
    },
    {
      "cell_type": "markdown",
      "source": [
        "#Código de los algoritmos"
      ],
      "metadata": {
        "id": "wPxybYeej6DP"
      }
    },
    {
      "cell_type": "code",
      "source": [
        "def SelectionSort(lista):\n",
        "    # La función \"SelectionSort\" toma una lista como entrada para ser ordenada.\n",
        "\n",
        "    for i in range(len(lista)):\n",
        "        # El primer bucle \"for\" itera a través de cada elemento en la lista.\n",
        "\n",
        "        minimo = i\n",
        "        # Inicializamos la variable \"minimo\" con el índice actual \"i\" como el índice del elemento mínimo.\n",
        "\n",
        "        for j in range(i + 1, len(lista)):\n",
        "            # El segundo bucle \"for\" itera desde el índice siguiente al actual \"i\" hasta el final de la lista.\n",
        "\n",
        "            if lista[j] < lista[minimo]:\n",
        "                # Comparamos el elemento actual con el elemento mínimo encontrado hasta ahora.\n",
        "\n",
        "                # Si encontramos un elemento menor, actualizamos el índice del elemento mínimo.\n",
        "                minimo = j\n",
        "\n",
        "        # Después de completar el segundo bucle, hemos encontrado el elemento mínimo en la parte no ordenada de la lista.\n",
        "        # Ahora intercambiamos el elemento mínimo con el elemento en la posición actual \"i\".\n",
        "        lista[i], lista[minimo] = lista[minimo], lista[i]\n",
        "\n",
        "    # Después de que ambos bucles hayan terminado, la lista estará ordenada en orden ascendente.\n",
        "    return lista  # Devolvemos la lista ordenada\n",
        "\n"
      ],
      "metadata": {
        "id": "pqLBbjgQkB-s"
      },
      "execution_count": null,
      "outputs": []
    },
    {
      "cell_type": "code",
      "source": [
        "# Definicion InserSort\n",
        "def InserSort(lista):\n",
        "    # La función \"InserSort\" toma una lista como entrada para ser ordenada.\n",
        "\n",
        "    for i in range(len(lista)):\n",
        "        # El primer bucle \"for\" itera a través de cada elemento en la lista.\n",
        "\n",
        "        for j in range(i, 0, -1):\n",
        "            # El segundo bucle \"for\" itera desde el índice actual \"i\" hasta 1 en reversa.\n",
        "\n",
        "            if lista[j] < lista[j-1]:\n",
        "                # Compara el elemento actual con el elemento anterior en la lista.\n",
        "\n",
        "                # Si el elemento actual es menor que el elemento anterior, entonces intercambia\n",
        "                # los dos elementos para que queden en orden ascendente.\n",
        "                lista[j], lista[j-1] = lista[j-1], lista[j]  # Utilizamos swap para intercambiar\n",
        "\n",
        "    # Después de que ambos bucles hayan terminado, la lista estará ordenada en orden ascendente.\n",
        "    return lista\n"
      ],
      "metadata": {
        "id": "QJ9kUzlJkCwL"
      },
      "execution_count": null,
      "outputs": []
    },
    {
      "cell_type": "code",
      "source": [
        "def bubbleSort(lista):\n",
        "    # La función \"bubbleSort\" toma una lista como entrada para ser ordenada.\n",
        "\n",
        "    n = len(lista)\n",
        "    # Obtenemos la longitud de la lista para conocer cuántos elementos hay en ella.\n",
        "\n",
        "    intercambio = True\n",
        "    # Inicializamos la variable \"intercambio\" como True para entrar en el primer bucle while.\n",
        "\n",
        "    j = 0\n",
        "    # Inicializamos una variable \"j\" que se usará para optimizar el rendimiento del algoritmo.\n",
        "\n",
        "    while intercambio:\n",
        "        # Iniciamos un bucle \"while\" que continuará hasta que no se realicen más intercambios.\n",
        "\n",
        "        j = j + 1\n",
        "        # Incrementamos \"j\" en cada iteración, ya que sabemos que los últimos \"j\" elementos ya están en su lugar.\n",
        "\n",
        "        intercambio = False\n",
        "        # Suponemos que no habrá más intercambios hasta que se demuestre lo contrario.\n",
        "\n",
        "        for i in range(n - j):\n",
        "            # El bucle \"for\" itera a través de los elementos de la lista hasta el penúltimo elemento.\n",
        "\n",
        "            if lista[i] > lista[i + 1]:\n",
        "                # Comparamos el elemento actual con el siguiente elemento.\n",
        "\n",
        "                # Si el elemento actual es mayor que el siguiente, los intercambiamos.\n",
        "                lista[i], lista[i + 1] = lista[i + 1], lista[i]\n",
        "                intercambio = True\n",
        "                # Indicamos que se realizó un intercambio en esta iteración.\n",
        "\n",
        "    # Después de que ambos bucles hayan terminado, la lista estará ordenada en orden ascendente.\n",
        "    return lista\n"
      ],
      "metadata": {
        "id": "Qt90bnSbkCnh"
      },
      "execution_count": null,
      "outputs": []
    },
    {
      "cell_type": "code",
      "source": [
        "def MergeSort(List):\n",
        "    # La función \"MergeSort\" toma una lista como entrada para ser ordenada.\n",
        "\n",
        "    Sorted_list = []\n",
        "    # Creamos una lista vacía \"Sorted_list\" que se usará para almacenar la lista ordenada.\n",
        "\n",
        "    if len(List) <= 1:\n",
        "        return List\n",
        "    # Si la longitud de la lista es 1, significa que ya está ordenada, por lo que la devolvemos tal como está.\n",
        "\n",
        "    mitad = len(List) // 2\n",
        "    # Dividimos la lista en dos mitades aproximadamente iguales usando división entera.\n",
        "\n",
        "    izquierda = MergeSort(List[:mitad])\n",
        "    # Llamamos recursivamente a MergeSort en la mitad izquierda de la lista.\n",
        "\n",
        "    derecha = MergeSort(List[mitad:])\n",
        "    # Llamamos recursivamente a MergeSort en la mitad derecha de la lista.\n",
        "\n",
        "    izquierda_len = len(izquierda)\n",
        "    derecha_len = len(derecha)\n",
        "    # Obtenemos las longitudes de las listas izquierda y derecha.\n",
        "\n",
        "    i = 0\n",
        "    j = 0\n",
        "    # Inicializamos dos índices i y j para recorrer las listas izquierda y derecha respectivamente.\n",
        "\n",
        "    while i != izquierda_len or j != derecha_len:\n",
        "        # Iniciamos un bucle \"while\" que continuará hasta que hayamos procesado todos los elementos de ambas listas.\n",
        "\n",
        "        if i != izquierda_len and (j == derecha_len or izquierda[i] < derecha[j]):\n",
        "            # Comparamos el elemento actual de la lista izquierda con el elemento actual de la lista derecha.\n",
        "\n",
        "            # Si el elemento de la lista izquierda es menor (o si ya hemos recorrido toda la lista derecha),\n",
        "            # agregamos el elemento de la lista izquierda a la lista \"Sorted_list\" y avanzamos en la lista izquierda.\n",
        "            Sorted_list.append(izquierda[i])\n",
        "            i += 1\n",
        "        else:\n",
        "            # En caso contrario, agregamos el elemento de la lista derecha a la lista \"Sorted_list\" y avanzamos en la lista derecha.\n",
        "            Sorted_list.append(derecha[j])\n",
        "            j += 1\n",
        "\n",
        "    # Después de que el bucle \"while\" haya terminado, la lista \"Sorted_list\" contendrá todos los elementos ordenados de las listas izquierda y derecha.\n",
        "    return Sorted_list"
      ],
      "metadata": {
        "id": "v14niuYOwrh-"
      },
      "execution_count": null,
      "outputs": []
    },
    {
      "cell_type": "code",
      "source": [
        "# Definicion recursiva de quicksort\n",
        "def quickSort(lista):\n",
        "  # si la lista es de tamaño 1 o menor se devuelve\n",
        "  if len(lista) < 2:\n",
        "    return lista\n",
        "  # en otro caso se parte la lista y se resuelve recursivamente\n",
        "  else:\n",
        "    # se parte la lista original (n operaciones)\n",
        "    menores, pivote, mayores = particion(lista)\n",
        "    # 2*T(n/2)\n",
        "    return quickSort(menores)+[pivote]+quickSort(mayores)\n",
        "\n",
        "# Definicion del algoritmo para partir una lista en mayores y menores\n",
        "def particion(lista):\n",
        "  mayores, menores = [], []\n",
        "  # pivote para realizar la comparación\n",
        "  pivote = lista[0]\n",
        "  for i in range(1,len(lista)):\n",
        "    if lista[i] < pivote:\n",
        "      menores.append(lista[i])\n",
        "    else:\n",
        "      mayores.append(lista[i])\n",
        "  # se devuelven ambas listas y el pivote\n",
        "  return menores, pivote, mayores"
      ],
      "metadata": {
        "id": "XfMm2THykCVf"
      },
      "execution_count": null,
      "outputs": []
    },
    {
      "cell_type": "markdown",
      "source": [
        "#Pruebas"
      ],
      "metadata": {
        "id": "syTBvU8JkDHx"
      }
    },
    {
      "cell_type": "markdown",
      "source": [
        "##SelectionSort Pruebas"
      ],
      "metadata": {
        "id": "U_GJts4mzyOb"
      }
    },
    {
      "cell_type": "code",
      "source": [
        "# Pruebas unitarias\n",
        "def test_SelectionSort():\n",
        "    # Casos de prueba\n",
        "    assert SelectionSort([]) == []  # Lista vacía\n",
        "    assert SelectionSort([3, 1, 4, 1, 5, 9, 2, 6, 5, 3, 5]) == [1, 1, 2, 3, 3, 4, 5, 5, 5, 6, 9]  # Lista desordenada\n",
        "    assert SelectionSort([5, 4, 3, 2, 1]) == [1, 2, 3, 4, 5]  # Lista ordenada en orden descendente\n",
        "\n",
        "if __name__ == \"__main__\":\n",
        "    print(\"Todas las pruebas pasaron.\")\n",
        "\n",
        "\n",
        "\n"
      ],
      "metadata": {
        "id": "QoCSbx2ikNF1",
        "colab": {
          "base_uri": "https://localhost:8080/"
        },
        "outputId": "2366a98e-b59e-4ae3-d3ac-a90ed1ba6aa8"
      },
      "execution_count": null,
      "outputs": [
        {
          "output_type": "stream",
          "name": "stdout",
          "text": [
            "Todas las pruebas pasaron.\n"
          ]
        }
      ]
    },
    {
      "cell_type": "markdown",
      "source": [
        "##InserSort Pruebas"
      ],
      "metadata": {
        "id": "A38U55rkz5Rf"
      }
    },
    {
      "cell_type": "code",
      "source": [
        "def test_InserSort():\n",
        "    # Casos de prueba\n",
        "    assert InserSort([]) == []  # Lista vacía\n",
        "    assert InserSort([3, 1, 4, 1, 5, 9, 2, 6, 5, 3, 5]) == [1, 1, 2, 3, 3, 4, 5, 5, 5, 6, 9]  # Lista desordenada\n",
        "    assert InserSort([5, 4, 3, 2, 1]) == [1, 2, 3, 4, 5]  # Lista ordenada en orden descendente\n",
        "\n",
        "if __name__ == \"__main__\":\n",
        "    test_InserSort()\n",
        "    print(\"Todas las pruebas pasaron.\")"
      ],
      "metadata": {
        "id": "5Mh8AUwnkNBY",
        "colab": {
          "base_uri": "https://localhost:8080/"
        },
        "outputId": "4fe98b08-82eb-44aa-87bc-b2e3b30a16f6"
      },
      "execution_count": null,
      "outputs": [
        {
          "output_type": "stream",
          "name": "stdout",
          "text": [
            "Todas las pruebas pasaron.\n"
          ]
        }
      ]
    },
    {
      "cell_type": "markdown",
      "source": [
        "##bubbleSort Pruebas"
      ],
      "metadata": {
        "id": "nsfNvZg3z-rM"
      }
    },
    {
      "cell_type": "code",
      "source": [
        "def test_bubbleSort():\n",
        "    # Casos de prueba\n",
        "    assert bubbleSort([]) == []  # Lista vacía\n",
        "    assert bubbleSort([3, 1, 4, 1, 5, 9, 2, 6, 5, 3, 5]) == [1, 1, 2, 3, 3, 4, 5, 5, 5, 6, 9]  # Lista desordenada\n",
        "    assert bubbleSort([5, 4, 3, 2, 1]) == [1, 2, 3, 4, 5]  # Lista ordenada en orden descendente\n",
        "\n",
        "if __name__ == \"__main__\":\n",
        "    test_bubbleSort()\n",
        "    print(\"Todas las pruebas pasaron.\")"
      ],
      "metadata": {
        "id": "P7F9VkLlkM3P",
        "colab": {
          "base_uri": "https://localhost:8080/"
        },
        "outputId": "3a9e23ca-3a9d-43ac-f8c6-45402984b17c"
      },
      "execution_count": null,
      "outputs": [
        {
          "output_type": "stream",
          "name": "stdout",
          "text": [
            "Todas las pruebas pasaron.\n"
          ]
        }
      ]
    },
    {
      "cell_type": "markdown",
      "source": [
        "##MergeSort Pruebas"
      ],
      "metadata": {
        "id": "Dmt9LIYn0Ejg"
      }
    },
    {
      "cell_type": "code",
      "source": [
        "# Prueba 1: Lista desordenada\n",
        "lista_desordenada = [64, 25, 12, 22, 11]\n",
        "MergeSort(lista_desordenada)\n",
        "print(\"Lista ordenada 1:\", lista_desordenada)\n",
        "\n",
        "# Prueba 2: Lista con elementos repetidos\n",
        "lista_repetida = [5, 5, 3, 1, 2, 2, 4]\n",
        "MergeSort(lista_repetida)\n",
        "print(\"Lista ordenada 2:\", lista_repetida)\n",
        "\n",
        "# Prueba 3: Lista ya ordenada\n",
        "lista_ordenada = [1, 2, 3, 4, 5]\n",
        "MergeSort(lista_ordenada)\n",
        "print(\"Lista ordenada 3:\", lista_ordenada)\n",
        "\n",
        "# Prueba 4: Lista vacía\n",
        "lista_vacia = []\n",
        "MergeSort(lista_vacia)\n",
        "print(\"Lista ordenada 4:\", lista_vacia)"
      ],
      "metadata": {
        "id": "u_gynxuKkMzz",
        "colab": {
          "base_uri": "https://localhost:8080/"
        },
        "outputId": "650cdd12-9737-4a1d-d7f9-6fcaf25a1bbf"
      },
      "execution_count": null,
      "outputs": [
        {
          "output_type": "stream",
          "name": "stdout",
          "text": [
            "Lista ordenada 1: [64, 25, 12, 22, 11]\n",
            "Lista ordenada 2: [5, 5, 3, 1, 2, 2, 4]\n",
            "Lista ordenada 3: [1, 2, 3, 4, 5]\n",
            "Lista ordenada 4: []\n"
          ]
        }
      ]
    },
    {
      "cell_type": "markdown",
      "source": [
        "##quickSort Pruebas"
      ],
      "metadata": {
        "id": "DWJFZW2v0MmD"
      }
    },
    {
      "cell_type": "code",
      "source": [
        "def test_quickSort():\n",
        "    # Casos de prueba\n",
        "    assert quickSort([]) == []  # Lista vacía\n",
        "    assert quickSort([3, 1, 4, 1, 5, 9, 2, 6, 5, 3, 5]) == [1, 1, 2, 3, 3, 4, 5, 5, 5, 6, 9]  # Lista desordenada\n",
        "    assert quickSort([5, 4, 3, 2, 1]) == [1, 2, 3, 4, 5]  # Lista ordenada en orden descendente\n",
        "\n",
        "if __name__ == \"__main__\":\n",
        "    test_quickSort()\n",
        "    print(\"Todas las pruebas pasaron.\")\n"
      ],
      "metadata": {
        "id": "HuQyYxILkMjL",
        "colab": {
          "base_uri": "https://localhost:8080/"
        },
        "outputId": "89dc5fa8-1f78-4406-9572-da27e315b15c"
      },
      "execution_count": null,
      "outputs": [
        {
          "output_type": "stream",
          "name": "stdout",
          "text": [
            "Todas las pruebas pasaron.\n"
          ]
        }
      ]
    },
    {
      "cell_type": "markdown",
      "source": [
        "#Punto extra :)"
      ],
      "metadata": {
        "id": "BD82_LzM4PGL"
      }
    },
    {
      "cell_type": "markdown",
      "source": [
        "##Verción fija para las pruebas de tiempo\n",
        "\n"
      ],
      "metadata": {
        "id": "CShQFEl07syJ"
      }
    },
    {
      "cell_type": "markdown",
      "source": [
        "###SelectionSort"
      ],
      "metadata": {
        "id": "Hde0K4p271-J"
      }
    },
    {
      "cell_type": "code",
      "source": [
        "import timeit\n",
        "import random\n",
        "\n",
        "# Listas\n",
        "lista_10 = [42, 17, 23, 8, 91, 4, 55, 36, 70, 12]\n",
        "lista_20 = [63, 29, 84, 5, 72, 41, 9, 18, 53, 37, 6, 92, 49, 28, 14, 3, 68, 22, 76, 1]\n",
        "lista_30 = [57, 13, 33, 2, 77, 11, 51, 27, 64, 45, 7, 88, 20, 38, 67, 15, 81, 46, 25, 78, 10, 61, 34, 90, 19, 59, 31, 85, 50, 4]\n",
        "\n",
        "# Medición de tiempo para cada algoritmo y lista\n",
        "for lista in [lista_10, lista_20, lista_30]:\n",
        "    print(f\"Lista de tamaño {len(lista)}:\")\n",
        "\n",
        "    # Medir el tiempo para el algoritmo de SelectionSort\n",
        "    inicio = timeit.timeit()\n",
        "    SelectionSort(lista.copy())  # Usamos copy() para evitar modificar la lista original\n",
        "    fin = timeit.timeit()\n",
        "    print(f\"SelectionSort: {fin - inicio} segundos\")"
      ],
      "metadata": {
        "colab": {
          "base_uri": "https://localhost:8080/"
        },
        "outputId": "8a537eb4-1933-41f4-f513-51dd9dfe656e",
        "id": "m-H4kdJ871-K"
      },
      "execution_count": null,
      "outputs": [
        {
          "output_type": "stream",
          "name": "stdout",
          "text": [
            "Lista de tamaño 10:\n",
            "SelectionSort: -0.0029509669998333266 segundos\n",
            "Lista de tamaño 20:\n",
            "SelectionSort: -0.0001484829999753856 segundos\n",
            "Lista de tamaño 30:\n",
            "SelectionSort: -0.0007122950000848505 segundos\n"
          ]
        }
      ]
    },
    {
      "cell_type": "markdown",
      "source": [
        "###InserSort"
      ],
      "metadata": {
        "id": "grKImgQA71-K"
      }
    },
    {
      "cell_type": "code",
      "source": [
        "import timeit\n",
        "import random\n",
        "\n",
        "# Listas\n",
        "lista_10 = [42, 17, 23, 8, 91, 4, 55, 36, 70, 12]\n",
        "lista_20 = [63, 29, 84, 5, 72, 41, 9, 18, 53, 37, 6, 92, 49, 28, 14, 3, 68, 22, 76, 1]\n",
        "lista_30 = [57, 13, 33, 2, 77, 11, 51, 27, 64, 45, 7, 88, 20, 38, 67, 15, 81, 46, 25, 78, 10, 61, 34, 90, 19, 59, 31, 85, 50, 4]\n",
        "\n",
        "# Medición de tiempo para cada algoritmo y lista\n",
        "for lista in [lista_10, lista_20, lista_30]:\n",
        "    print(f\"Lista de tamaño {len(lista)}:\")\n",
        "\n",
        "    # Medir el tiempo para el algoritmo de InserSort\n",
        "    inicio = timeit.timeit()\n",
        "    InserSort(lista.copy())  # Usamos copy() para evitar modificar la lista original\n",
        "    fin = timeit.timeit()\n",
        "    print(f\"InserSort: {fin - inicio} segundos\")"
      ],
      "metadata": {
        "colab": {
          "base_uri": "https://localhost:8080/"
        },
        "outputId": "90bbc8e1-f0a5-43d9-9fee-948f771f8eaa",
        "id": "uc09CiTL71-L"
      },
      "execution_count": null,
      "outputs": [
        {
          "output_type": "stream",
          "name": "stdout",
          "text": [
            "Lista de tamaño 10:\n",
            "InserSort: -0.012817841000469343 segundos\n",
            "Lista de tamaño 20:\n",
            "InserSort: -0.0012054849994456163 segundos\n",
            "Lista de tamaño 30:\n",
            "InserSort: 0.00021934500000497792 segundos\n"
          ]
        }
      ]
    },
    {
      "cell_type": "markdown",
      "source": [
        "###bubbleSort"
      ],
      "metadata": {
        "id": "gWQ4W_y771-L"
      }
    },
    {
      "cell_type": "code",
      "source": [
        "import timeit\n",
        "import random\n",
        "\n",
        "# Listas\n",
        "lista_10 = [42, 17, 23, 8, 91, 4, 55, 36, 70, 12]\n",
        "lista_20 = [63, 29, 84, 5, 72, 41, 9, 18, 53, 37, 6, 92, 49, 28, 14, 3, 68, 22, 76, 1]\n",
        "lista_30 = [57, 13, 33, 2, 77, 11, 51, 27, 64, 45, 7, 88, 20, 38, 67, 15, 81, 46, 25, 78, 10, 61, 34, 90, 19, 59, 31, 85, 50, 4]\n",
        "\n",
        "# Medición de tiempo para cada algoritmo y lista\n",
        "for lista in [lista_10, lista_20, lista_30]:\n",
        "    print(f\"Lista de tamaño {len(lista)}:\")\n",
        "\n",
        "    # Medir el tiempo para el algoritmo de bubbleSort\n",
        "    inicio = timeit.timeit()\n",
        "    bubbleSort(lista.copy())  # Usamos copy() para evitar modificar la lista original\n",
        "    fin = timeit.timeit()\n",
        "    print(f\"bubbleSort: {fin - inicio} segundos\")"
      ],
      "metadata": {
        "colab": {
          "base_uri": "https://localhost:8080/"
        },
        "outputId": "608dee9e-b87a-4a6a-c5b3-ca72a53cb9e2",
        "id": "EQKGvYGu71-L"
      },
      "execution_count": null,
      "outputs": [
        {
          "output_type": "stream",
          "name": "stdout",
          "text": [
            "Lista de tamaño 10:\n",
            "bubbleSort: -0.0006528089998028008 segundos\n",
            "Lista de tamaño 20:\n",
            "bubbleSort: -0.00234182799977134 segundos\n",
            "Lista de tamaño 30:\n",
            "bubbleSort: -0.0011675400000967784 segundos\n"
          ]
        }
      ]
    },
    {
      "cell_type": "markdown",
      "source": [
        "###MergeSort"
      ],
      "metadata": {
        "id": "RoteVKzA71-M"
      }
    },
    {
      "cell_type": "code",
      "source": [
        "import timeit\n",
        "import random\n",
        "\n",
        "# Listas\n",
        "lista_10 = [42, 17, 23, 8, 91, 4, 55, 36, 70, 12]\n",
        "lista_20 = [63, 29, 84, 5, 72, 41, 9, 18, 53, 37, 6, 92, 49, 28, 14, 3, 68, 22, 76, 1]\n",
        "lista_30 = [57, 13, 33, 2, 77, 11, 51, 27, 64, 45, 7, 88, 20, 38, 67, 15, 81, 46, 25, 78, 10, 61, 34, 90, 19, 59, 31, 85, 50, 4]\n",
        "\n",
        "# Medición de tiempo para cada algoritmo y lista\n",
        "for lista in [lista_10, lista_20, lista_30]:\n",
        "    print(f\"Lista de tamaño {len(lista)}:\")\n",
        "\n",
        "    # Medir el tiempo para el algoritmo de MergeSort\n",
        "    inicio = timeit.timeit()\n",
        "    MergeSort(lista.copy())  # Usamos copy() para evitar modificar la lista original\n",
        "    fin = timeit.timeit()\n",
        "    print(f\"MergeSort: {fin - inicio} segundos\")"
      ],
      "metadata": {
        "colab": {
          "base_uri": "https://localhost:8080/"
        },
        "outputId": "043d77b0-9e21-4e3b-96a2-1c44703f2d16",
        "id": "FEIfAenn71-M"
      },
      "execution_count": null,
      "outputs": [
        {
          "output_type": "stream",
          "name": "stdout",
          "text": [
            "Lista de tamaño 10:\n",
            "MergeSort: -0.006690658000479743 segundos\n",
            "Lista de tamaño 20:\n",
            "MergeSort: -0.0013983850003569387 segundos\n",
            "Lista de tamaño 30:\n",
            "MergeSort: -0.0001070060006895801 segundos\n"
          ]
        }
      ]
    },
    {
      "cell_type": "markdown",
      "source": [
        "###quickSort"
      ],
      "metadata": {
        "id": "UB1poi7L71-M"
      }
    },
    {
      "cell_type": "code",
      "source": [
        "import timeit\n",
        "import random\n",
        "\n",
        "# Listas\n",
        "lista_10 = [42, 17, 23, 8, 91, 4, 55, 36, 70, 12]\n",
        "lista_20 = [63, 29, 84, 5, 72, 41, 9, 18, 53, 37, 6, 92, 49, 28, 14, 3, 68, 22, 76, 1]\n",
        "lista_30 = [57, 13, 33, 2, 77, 11, 51, 27, 64, 45, 7, 88, 20, 38, 67, 15, 81, 46, 25, 78, 10, 61, 34, 90, 19, 59, 31, 85, 50, 4]\n",
        "\n",
        "# Medición de tiempo para cada algoritmo y lista\n",
        "for lista in [lista_10, lista_20, lista_30]:\n",
        "    print(f\"Lista de tamaño {len(lista)}:\")\n",
        "\n",
        "    # Medir el tiempo para el algoritmo de quickSort\n",
        "    inicio = timeit.timeit()\n",
        "    quickSort(lista.copy())  # Usamos copy() para evitar modificar la lista original\n",
        "    fin = timeit.timeit()\n",
        "    print(f\"quickSort: {fin - inicio} segundos\")"
      ],
      "metadata": {
        "colab": {
          "base_uri": "https://localhost:8080/"
        },
        "outputId": "07df713a-9803-4723-ae58-7d3b2941ae81",
        "id": "b1VCDiuw71-M"
      },
      "execution_count": null,
      "outputs": [
        {
          "output_type": "stream",
          "name": "stdout",
          "text": [
            "Lista de tamaño 10:\n",
            "quickSort: -0.004123529000025883 segundos\n",
            "Lista de tamaño 20:\n",
            "quickSort: -1.4234000445867423e-05 segundos\n",
            "Lista de tamaño 30:\n",
            "quickSort: -7.949999962875154e-05 segundos\n"
          ]
        }
      ]
    },
    {
      "cell_type": "markdown",
      "source": [
        "##Verción aletoria para las pruebas de tiempo\n"
      ],
      "metadata": {
        "id": "TdG5Wv6l7lO6"
      }
    },
    {
      "cell_type": "markdown",
      "source": [
        "##SelectionSort"
      ],
      "metadata": {
        "id": "NuIpUL0k4-5a"
      }
    },
    {
      "cell_type": "code",
      "source": [
        "import timeit\n",
        "import random\n",
        "\n",
        "# Tamaños de las listas\n",
        "tamaños = [10, 20, 30]\n",
        "\n",
        "for tamaño in tamaños:\n",
        "    # Generamos una lista aleatoria del tamaño especificado\n",
        "    lista_aleatoria = [random.randint(1, 1000) for _ in range(tamaño)]\n",
        "\n",
        "    # Medimos el tiempo de ejecución del algoritmo con la lista generada\n",
        "    tiempo = timeit.timeit(lambda: SelectionSort(lista_aleatoria.copy()), number=1000)\n",
        "\n",
        "    print(f'Tiempo para una lista de tamaño {tamaño}: {tiempo} segundos')\n",
        "\n"
      ],
      "metadata": {
        "colab": {
          "base_uri": "https://localhost:8080/"
        },
        "id": "bQUNHGlZ4OWl",
        "outputId": "5987de6d-2364-4f2d-8d56-8c6f0112990f"
      },
      "execution_count": null,
      "outputs": [
        {
          "output_type": "stream",
          "name": "stdout",
          "text": [
            "Tiempo para una lista de tamaño 10: 0.0078243920000034 segundos\n",
            "Tiempo para una lista de tamaño 20: 0.017628493000003687 segundos\n",
            "Tiempo para una lista de tamaño 30: 0.024154119999998613 segundos\n"
          ]
        }
      ]
    },
    {
      "cell_type": "markdown",
      "source": [
        "##InserSort"
      ],
      "metadata": {
        "id": "Y0Ivdb_k55de"
      }
    },
    {
      "cell_type": "code",
      "source": [
        "import timeit\n",
        "import random\n",
        "\n",
        "# Tamaños de las listas\n",
        "tamaños = [10, 20, 30]\n",
        "\n",
        "for tamaño in tamaños:\n",
        "    # Generamos una lista aleatoria del tamaño especificado\n",
        "    lista_aleatoria = [random.randint(1, 1000) for _ in range(tamaño)]\n",
        "\n",
        "    # Medimos el tiempo de ejecución del algoritmo con la lista generada\n",
        "    tiempo = timeit.timeit(lambda: InserSort(lista_aleatoria.copy()), number=1000)\n",
        "\n",
        "    print(f'Tiempo para una lista de tamaño {tamaño}: {tiempo} segundos')"
      ],
      "metadata": {
        "colab": {
          "base_uri": "https://localhost:8080/"
        },
        "id": "tM6kIzhj553M",
        "outputId": "0323988a-dcd8-4b18-b280-3d7e1de46fb9"
      },
      "execution_count": null,
      "outputs": [
        {
          "output_type": "stream",
          "name": "stdout",
          "text": [
            "Tiempo para una lista de tamaño 10: 0.01073488900000541 segundos\n",
            "Tiempo para una lista de tamaño 20: 0.020202423000000636 segundos\n",
            "Tiempo para una lista de tamaño 30: 0.04493625599999973 segundos\n"
          ]
        }
      ]
    },
    {
      "cell_type": "markdown",
      "source": [
        "##bubbleSort"
      ],
      "metadata": {
        "id": "QAm2unTS6ZyM"
      }
    },
    {
      "cell_type": "code",
      "source": [
        "import timeit\n",
        "import random\n",
        "\n",
        "# Tamaños de las listas\n",
        "tamaños = [10, 20, 30]\n",
        "\n",
        "for tamaño in tamaños:\n",
        "    # Generamos una lista aleatoria del tamaño especificado\n",
        "    lista_aleatoria = [random.randint(1, 1000) for _ in range(tamaño)]\n",
        "\n",
        "    # Medimos el tiempo de ejecución del algoritmo con la lista generada\n",
        "    tiempo = timeit.timeit(lambda: bubbleSort(lista_aleatoria.copy()), number=1000)\n",
        "\n",
        "    print(f'Tiempo para una lista de tamaño {tamaño}: {tiempo} segundos')"
      ],
      "metadata": {
        "colab": {
          "base_uri": "https://localhost:8080/"
        },
        "id": "fwvhYky76Zi1",
        "outputId": "cc8d9044-157c-4c3f-bed8-4e742403541f"
      },
      "execution_count": null,
      "outputs": [
        {
          "output_type": "stream",
          "name": "stdout",
          "text": [
            "Tiempo para una lista de tamaño 10: 0.005250916000008488 segundos\n",
            "Tiempo para una lista de tamaño 20: 0.026752110999993306 segundos\n",
            "Tiempo para una lista de tamaño 30: 0.04352947399999607 segundos\n"
          ]
        }
      ]
    },
    {
      "cell_type": "markdown",
      "source": [
        "##MergeSort"
      ],
      "metadata": {
        "id": "GIKLdpP46ufX"
      }
    },
    {
      "cell_type": "code",
      "source": [
        "import timeit\n",
        "import random\n",
        "\n",
        "# Tamaños de las listas\n",
        "tamaños = [10, 20, 30]\n",
        "\n",
        "for tamaño in tamaños:\n",
        "    # Generamos una lista aleatoria del tamaño especificado\n",
        "    lista_aleatoria = [random.randint(1, 1000) for _ in range(tamaño)]\n",
        "\n",
        "    # Medimos el tiempo de ejecución del algoritmo con la lista generada\n",
        "    tiempo = timeit.timeit(lambda: MergeSort(lista_aleatoria.copy()), number=1000)\n",
        "\n",
        "    print(f'Tiempo para una lista de tamaño {tamaño}: {tiempo} segundos')"
      ],
      "metadata": {
        "colab": {
          "base_uri": "https://localhost:8080/"
        },
        "id": "861LXcIY6uGz",
        "outputId": "8566c423-39c7-48c5-8347-0f5ea4d04a3e"
      },
      "execution_count": null,
      "outputs": [
        {
          "output_type": "stream",
          "name": "stdout",
          "text": [
            "Tiempo para una lista de tamaño 10: 0.01146271200001081 segundos\n",
            "Tiempo para una lista de tamaño 20: 0.019246694999992542 segundos\n",
            "Tiempo para una lista de tamaño 30: 0.030157725999998775 segundos\n"
          ]
        }
      ]
    },
    {
      "cell_type": "markdown",
      "source": [
        "##quickSort"
      ],
      "metadata": {
        "id": "gJVT0zRl7AWb"
      }
    },
    {
      "cell_type": "code",
      "source": [
        "import timeit\n",
        "import random\n",
        "\n",
        "# Tamaños de las listas\n",
        "tamaños = [10, 20, 30]\n",
        "\n",
        "for tamaño in tamaños:\n",
        "    # Generamos una lista aleatoria del tamaño especificado\n",
        "    lista_aleatoria = [random.randint(1, 1000) for _ in range(tamaño)]\n",
        "\n",
        "    # Medimos el tiempo de ejecución del algoritmo con la lista generada\n",
        "    tiempo = timeit.timeit(lambda: quickSort(lista_aleatoria.copy()), number=1000)\n",
        "\n",
        "    print(f'Tiempo para una lista de tamaño {tamaño}: {tiempo} segundos')"
      ],
      "metadata": {
        "colab": {
          "base_uri": "https://localhost:8080/"
        },
        "id": "0lDMmeRz7Apg",
        "outputId": "61356eec-7beb-4b3b-a8e2-e3eac3057861"
      },
      "execution_count": null,
      "outputs": [
        {
          "output_type": "stream",
          "name": "stdout",
          "text": [
            "Tiempo para una lista de tamaño 10: 0.017421246000594692 segundos\n",
            "Tiempo para una lista de tamaño 20: 0.020245867999619804 segundos\n",
            "Tiempo para una lista de tamaño 30: 0.03311480800039135 segundos\n"
          ]
        }
      ]
    },
    {
      "cell_type": "code",
      "source": [
        "import numpy as np\n",
        "import matplotlib.pyplot as plt\n",
        "from mpl_toolkits.mplot3d import Axes3D\n",
        "\n",
        "def f(x, y):\n",
        "  if x == 0 and y == 0:\n",
        "    return 0\n",
        "  else:\n",
        "    return np.abs(x - y) / (x**2 + y**2)\n",
        "\n",
        "x = np.linspace(-1, 1, 50)\n",
        "y = np.linspace(-1, 1, 50)\n",
        "z = f(x, y)\n",
        "\n",
        "fig = plt.figure()\n",
        "ax = fig.add_subplot(111, projection='3d')\n",
        "\n",
        "ax.plot_surface(x, y, z, cmap='jet')\n",
        "ax.set_xlabel('x')\n",
        "ax.set_ylabel('y')\n",
        "ax.set_zlabel('f(x, y)')\n",
        "ax.set_title('Gráfica de f(x, y)')\n",
        "\n",
        "plt.show()"
      ],
      "metadata": {
        "id": "zzD4rb4s3_w2",
        "outputId": "4a793843-40ca-42e9-9217-28500876c78f",
        "colab": {
          "base_uri": "https://localhost:8080/",
          "height": 366
        }
      },
      "execution_count": null,
      "outputs": [
        {
          "output_type": "error",
          "ename": "ValueError",
          "evalue": "ignored",
          "traceback": [
            "\u001b[0;31m---------------------------------------------------------------------------\u001b[0m",
            "\u001b[0;31mValueError\u001b[0m                                Traceback (most recent call last)",
            "\u001b[0;32m<ipython-input-2-f36130d9763a>\u001b[0m in \u001b[0;36m<cell line: 13>\u001b[0;34m()\u001b[0m\n\u001b[1;32m     11\u001b[0m \u001b[0mx\u001b[0m \u001b[0;34m=\u001b[0m \u001b[0mnp\u001b[0m\u001b[0;34m.\u001b[0m\u001b[0mlinspace\u001b[0m\u001b[0;34m(\u001b[0m\u001b[0;34m-\u001b[0m\u001b[0;36m1\u001b[0m\u001b[0;34m,\u001b[0m \u001b[0;36m1\u001b[0m\u001b[0;34m,\u001b[0m \u001b[0;36m50\u001b[0m\u001b[0;34m)\u001b[0m\u001b[0;34m\u001b[0m\u001b[0;34m\u001b[0m\u001b[0m\n\u001b[1;32m     12\u001b[0m \u001b[0my\u001b[0m \u001b[0;34m=\u001b[0m \u001b[0mnp\u001b[0m\u001b[0;34m.\u001b[0m\u001b[0mlinspace\u001b[0m\u001b[0;34m(\u001b[0m\u001b[0;34m-\u001b[0m\u001b[0;36m1\u001b[0m\u001b[0;34m,\u001b[0m \u001b[0;36m1\u001b[0m\u001b[0;34m,\u001b[0m \u001b[0;36m50\u001b[0m\u001b[0;34m)\u001b[0m\u001b[0;34m\u001b[0m\u001b[0;34m\u001b[0m\u001b[0m\n\u001b[0;32m---> 13\u001b[0;31m \u001b[0mz\u001b[0m \u001b[0;34m=\u001b[0m \u001b[0mf\u001b[0m\u001b[0;34m(\u001b[0m\u001b[0mx\u001b[0m\u001b[0;34m,\u001b[0m \u001b[0my\u001b[0m\u001b[0;34m)\u001b[0m\u001b[0;34m\u001b[0m\u001b[0;34m\u001b[0m\u001b[0m\n\u001b[0m\u001b[1;32m     14\u001b[0m \u001b[0;34m\u001b[0m\u001b[0m\n\u001b[1;32m     15\u001b[0m \u001b[0mfig\u001b[0m \u001b[0;34m=\u001b[0m \u001b[0mplt\u001b[0m\u001b[0;34m.\u001b[0m\u001b[0mfigure\u001b[0m\u001b[0;34m(\u001b[0m\u001b[0;34m)\u001b[0m\u001b[0;34m\u001b[0m\u001b[0;34m\u001b[0m\u001b[0m\n",
            "\u001b[0;32m<ipython-input-2-f36130d9763a>\u001b[0m in \u001b[0;36mf\u001b[0;34m(x, y)\u001b[0m\n\u001b[1;32m      4\u001b[0m \u001b[0;34m\u001b[0m\u001b[0m\n\u001b[1;32m      5\u001b[0m \u001b[0;32mdef\u001b[0m \u001b[0mf\u001b[0m\u001b[0;34m(\u001b[0m\u001b[0mx\u001b[0m\u001b[0;34m,\u001b[0m \u001b[0my\u001b[0m\u001b[0;34m)\u001b[0m\u001b[0;34m:\u001b[0m\u001b[0;34m\u001b[0m\u001b[0;34m\u001b[0m\u001b[0m\n\u001b[0;32m----> 6\u001b[0;31m   \u001b[0;32mif\u001b[0m \u001b[0mx\u001b[0m \u001b[0;34m==\u001b[0m \u001b[0;36m0\u001b[0m \u001b[0;32mand\u001b[0m \u001b[0my\u001b[0m \u001b[0;34m==\u001b[0m \u001b[0;36m0\u001b[0m\u001b[0;34m:\u001b[0m\u001b[0;34m\u001b[0m\u001b[0;34m\u001b[0m\u001b[0m\n\u001b[0m\u001b[1;32m      7\u001b[0m     \u001b[0;32mreturn\u001b[0m \u001b[0;36m0\u001b[0m\u001b[0;34m\u001b[0m\u001b[0;34m\u001b[0m\u001b[0m\n\u001b[1;32m      8\u001b[0m   \u001b[0;32melse\u001b[0m\u001b[0;34m:\u001b[0m\u001b[0;34m\u001b[0m\u001b[0;34m\u001b[0m\u001b[0m\n",
            "\u001b[0;31mValueError\u001b[0m: The truth value of an array with more than one element is ambiguous. Use a.any() or a.all()"
          ]
        }
      ]
    },
    {
      "cell_type": "code",
      "source": [
        "!lscpu"
      ],
      "metadata": {
        "id": "PtO7bCLrdum6",
        "outputId": "5cf201b2-adfe-4e3f-85c1-f422eab9f54d",
        "colab": {
          "base_uri": "https://localhost:8080/"
        }
      },
      "execution_count": null,
      "outputs": [
        {
          "output_type": "stream",
          "name": "stdout",
          "text": [
            "Architecture:            x86_64\n",
            "  CPU op-mode(s):        32-bit, 64-bit\n",
            "  Address sizes:         46 bits physical, 48 bits virtual\n",
            "  Byte Order:            Little Endian\n",
            "CPU(s):                  2\n",
            "  On-line CPU(s) list:   0,1\n",
            "Vendor ID:               GenuineIntel\n",
            "  Model name:            Intel(R) Xeon(R) CPU @ 2.20GHz\n",
            "    CPU family:          6\n",
            "    Model:               79\n",
            "    Thread(s) per core:  2\n",
            "    Core(s) per socket:  1\n",
            "    Socket(s):           1\n",
            "    Stepping:            0\n",
            "    BogoMIPS:            4400.43\n",
            "    Flags:               fpu vme de pse tsc msr pae mce cx8 apic sep mtrr pge mca cmov pat pse36 clf\n",
            "                         lush mmx fxsr sse sse2 ss ht syscall nx pdpe1gb rdtscp lm constant_tsc rep_\n",
            "                         good nopl xtopology nonstop_tsc cpuid tsc_known_freq pni pclmulqdq ssse3 fm\n",
            "                         a cx16 pcid sse4_1 sse4_2 x2apic movbe popcnt aes xsave avx f16c rdrand hyp\n",
            "                         ervisor lahf_lm abm 3dnowprefetch invpcid_single ssbd ibrs ibpb stibp fsgsb\n",
            "                         ase tsc_adjust bmi1 hle avx2 smep bmi2 erms invpcid rtm rdseed adx smap xsa\n",
            "                         veopt arat md_clear arch_capabilities\n",
            "Virtualization features: \n",
            "  Hypervisor vendor:     KVM\n",
            "  Virtualization type:   full\n",
            "Caches (sum of all):     \n",
            "  L1d:                   32 KiB (1 instance)\n",
            "  L1i:                   32 KiB (1 instance)\n",
            "  L2:                    256 KiB (1 instance)\n",
            "  L3:                    55 MiB (1 instance)\n",
            "NUMA:                    \n",
            "  NUMA node(s):          1\n",
            "  NUMA node0 CPU(s):     0,1\n",
            "Vulnerabilities:         \n",
            "  Itlb multihit:         Not affected\n",
            "  L1tf:                  Mitigation; PTE Inversion\n",
            "  Mds:                   Vulnerable; SMT Host state unknown\n",
            "  Meltdown:              Vulnerable\n",
            "  Mmio stale data:       Vulnerable\n",
            "  Retbleed:              Vulnerable\n",
            "  Spec store bypass:     Vulnerable\n",
            "  Spectre v1:            Vulnerable: __user pointer sanitization and usercopy barriers only; no swap\n",
            "                         gs barriers\n",
            "  Spectre v2:            Vulnerable, IBPB: disabled, STIBP: disabled, PBRSB-eIBRS: Not affected\n",
            "  Srbds:                 Not affected\n",
            "  Tsx async abort:       Vulnerable\n"
          ]
        }
      ]
    },
    {
      "cell_type": "code",
      "source": [
        "import numpy as np\n",
        "import math\n",
        "\n",
        "'''Integracion numerica de Monte Carlo\n",
        "f: funcion a integrar\n",
        "N: numero de valores aleatorios\n",
        "a,b,c,d: limites de integracion\n",
        "'''\n",
        "\n",
        "def MonteVolEsfera(f, N, a, b):\n",
        "    Contador = 0\n",
        "    # genera N puntos aleatorios en el cubo [a,b] x [a,b] x [a,b]\n",
        "    for i in range(N):\n",
        "        # genera un punto aleatorio (x,y,z)\n",
        "        x = np.random.uniform(a, b)\n",
        "        y = np.random.uniform(a, b)\n",
        "        z = np.random.uniform(a, b)\n",
        "        # verifica si el punto está dentro de la esfera usando la función f\n",
        "        if f(x, y, z):\n",
        "            # incrementa el contador\n",
        "            Contador += 1\n",
        "    # calcula el volumen aproximado de la esfera usando la proporción de puntos dentro del cubo y la esfera\n",
        "    Aproximacion = (Contador / N) * (b - a)**3\n",
        "    # devuelve el volumen aproximado\n",
        "    return Aproximacion\n",
        "\n",
        "# función para verificar si un punto (x, y, z) está dentro de la esfera de radio 1 centrada en el origen\n",
        "def dentro_esfera(x, y, z):\n",
        "    return x**2 + y**2 + z**2 <= 1\n",
        "\n",
        "# aproximación del volumen de la esfera de radio 1 centrada en el origen\n",
        "volesfera = MonteVolEsfera(dentro_esfera, 10000000, -1, 1)\n",
        "volesfera = round(volesfera,3)\n",
        "print(volesfera)\n",
        "\n",
        "# volumen de la esfera de radio 1 centrada en el origen\n",
        "print((4/3) * np.pi)"
      ],
      "metadata": {
        "id": "kZysqXGncGL-",
        "colab": {
          "base_uri": "https://localhost:8080/"
        },
        "outputId": "4d5bd593-422e-4556-8044-95c91555288f"
      },
      "execution_count": null,
      "outputs": [
        {
          "output_type": "stream",
          "name": "stdout",
          "text": [
            "4.189\n",
            "4.1887902047863905\n"
          ]
        }
      ]
    },
    {
      "cell_type": "code",
      "source": [
        "import numpy as np\n",
        "import matplotlib.pyplot as plt\n",
        "\n",
        "\n",
        "# Función diferencial\n",
        "\n",
        "def dx_dt_b(x, t):\n",
        "    return x*(x-2)*(x-3)\n",
        "\n",
        "# Puntos críticos\n",
        "x_critical_b = [0, 2, 3]\n",
        "\n",
        "# Espacio de fase\n",
        "x_values_b = np.linspace(0, 4, 1000)\n",
        "dx_dt_values_b = dx_dt_b(x_values_b, 0)\n",
        "\n",
        "# Gráfica\n",
        "plt.figure(figsize=(8, 6))\n",
        "plt.plot(x_values_b, dx_dt_values_b, label=r'$\\frac{dx}{dt}=x(x-2)(x-3)$')\n",
        "plt.scatter(x_critical_b, [0, 0, 0], color='red', label='Puntos críticos')\n",
        "plt.xlabel('x')\n",
        "plt.ylabel(r'$\\frac{dx}{dt}$')\n",
        "plt.title('Espacio de fase para (b)')\n",
        "plt.axhline(0, color='black',linewidth=0.5)\n",
        "plt.axvline(0, color='black',linewidth=0.5)\n",
        "plt.grid(color = 'gray', linestyle = '--', linewidth = 0.5)\n",
        "plt.legend()\n",
        "plt.show()\n",
        "\n"
      ],
      "metadata": {
        "colab": {
          "base_uri": "https://localhost:8080/",
          "height": 564
        },
        "id": "KyXXcqZn1PIf",
        "outputId": "8bc27079-fa9b-44d8-888f-7af2b68df28c"
      },
      "execution_count": null,
      "outputs": [
        {
          "output_type": "display_data",
          "data": {
            "text/plain": [
              "<Figure size 800x600 with 1 Axes>"
            ],
            "image/png": "[encoded data removed]"
          },
          "metadata": {}
        }
      ]
    },
    {
      "cell_type": "code",
      "source": [
        "import numpy as np\n",
        "import matplotlib.pyplot as plt\n",
        "\n",
        "# Definir la función de densidad de probabilidad\n",
        "def f(x, y):\n",
        "    if x > 0 and y > 0 and x + y < 1:\n",
        "        return 2\n",
        "    else:\n",
        "        return 0\n",
        "\n",
        "# Crear un rango de valores para x y y\n",
        "x = np.linspace(0, 1, 100)\n",
        "y = np.linspace(0, 1, 100)\n",
        "\n",
        "# Crear una cuadrícula de coordenadas x, y\n",
        "X, Y = np.meshgrid(x, y)\n",
        "\n",
        "# Calcular los valores de la función de densidad de probabilidad en la cuadrícula\n",
        "Z = np.array([[f(x, y) for x, y in zip(x_row, y_row)] for x_row, y_row in zip(X, Y)])\n",
        "\n",
        "# Graficar la función de densidad de probabilidad\n",
        "plt.contourf(X, Y, Z, cmap='Blues')\n",
        "plt.colorbar(label='Densidad de probabilidad')\n",
        "plt.xlabel('X')\n",
        "plt.ylabel('Y')\n",
        "plt.title('Función de densidad de probabilidad f(x, y)')\n",
        "plt.grid(True)\n",
        "plt.show()\n"
      ],
      "metadata": {
        "id": "45DMxxtcLjeJ",
        "outputId": "56464dbd-7bbf-4583-c075-e4032d80e51a",
        "colab": {
          "base_uri": "https://localhost:8080/",
          "height": 472
        }
      },
      "execution_count": null,
      "outputs": [
        {
          "output_type": "display_data",
          "data": {
            "text/plain": [
              "<Figure size 640x480 with 2 Axes>"
            ],
            "image/png": "[encoded data removed]"
          },
          "metadata": {}
        }
      ]
    },
    {
      "cell_type": "code",
      "source": [
        "import numpy as np\n",
        "import matplotlib.pyplot as plt\n",
        "from scipy.stats import norm\n",
        "\n",
        "# Datos\n",
        "datos = [\n",
        "    4.856401652, 1.806208967, 3.04540301, 8.680736102, 3.200001647, 4.95636996, 10.45831735,\n",
        "    4.268946393, 4.806430202, 14.36820985, 3.009902559, 8.734311438, 3.605680383, 2.900530615,\n",
        "    3.926432221, 1.84899944, 5.239810289, 3.819866339, 2.4404034, 2.989084086, 7.256562874,\n",
        "    4.55149178, 6.347114542, 1.774853995, 2.731174454, 2.947668633, 2.599653378, 2.460783314,\n",
        "    5.770647676, 1.935634592, 5.31709603, 7.570332488, 1.634310103, 2.454758177, 10.39349316,\n",
        "    6.361209964, 5.55728708, 4.118004169, 4.7, 63.36843896, 3.997949815, 4.554556642, 7.239693281,\n",
        "    5.308595005, 7.008745223, 9.43302211, 7.23808934, 6.832886636, 3.724549463, 5.221519847,\n",
        "    0.954736938, 4.846634856, 3.358473954, 4.808104887, 2.440175465, 1.380185891, 3.796199089,\n",
        "    8.650344224, 3.727269734, 1.258543984, 8.880584908, 3.898231461, 11.09682627, 5.032709637,\n",
        "    6.406680329, 5.613193163, 3.750574391, 3.251681408, 3.01588948, 2.851100835, 4.705802952,\n",
        "    10.80936612, 0.075439465, 2.683871435, 5.260364425, 6.827510876, 3.360972555, 4.208871241,\n",
        "    4.346561401, 2.35100354, 4.858324036, 1.75044814, 4.595360946, 4.153856494, 2.54995557,\n",
        "    3.457539856, 3.646972071, 2.433092486, 1.910406169, 2.911772028, 2.568328178, 2.597644126,\n",
        "    4.558027339, 1.482243918, 5.533469266, -29.1, 3.445962073, 4.921874463, 1.848971065, 8.019792374\n",
        "]\n",
        "\n",
        "# Calcular la media y la desviación estándar de los datos\n",
        "media = np.mean(datos)\n",
        "desviacion_estandar = np.std(datos)\n",
        "\n",
        "# Crear un rango de valores para x\n",
        "x = np.linspace(min(datos), max(datos), 100)\n",
        "\n",
        "# Calcular la función de densidad de probabilidad para la distribución normal\n",
        "y = norm.pdf(x, media, desviacion_estandar)\n",
        "\n",
        "# Trazar los datos\n",
        "plt.hist(datos, bins=200, density=True, alpha=0.6, color='skyblue', label='Datos')\n",
        "\n",
        "# Trazar la campana de Gauss\n",
        "plt.plot(x, y, 'r', linewidth=2, label='Campana de Gauss')\n",
        "\n",
        "# Trazar líneas verticales azules para la media y +/- 1 desviación estándar\n",
        "plt.axvline(x=media, color='b', linestyle='--', label='Media')\n",
        "plt.axvline(x=media - desviacion_estandar, color='b', linestyle='--', label='-1 Desv. Estándar')\n",
        "plt.axvline(x=media + desviacion_estandar, color='b', linestyle='--', label='+1 Desv. Estándar')\n",
        "\n",
        "# Añadir etiquetas y título\n",
        "plt.xlabel('Valor')\n",
        "plt.ylabel('Densidad de Probabilidad')\n",
        "plt.title('Distribución de Datos con Campana de Gauss')\n",
        "plt.legend()\n",
        "\n",
        "# Mostrar la gráfica\n",
        "plt.grid(True)\n",
        "plt.show()\n",
        "\n"
      ],
      "metadata": {
        "id": "gPeWafPuLoNa",
        "outputId": "d0a98310-ec76-476f-f7a7-dc20ca58551f",
        "colab": {
          "base_uri": "https://localhost:8080/",
          "height": 472
        }
      },
      "execution_count": null,
      "outputs": [
        {
          "output_type": "display_data",
          "data": {
            "text/plain": [
              "<Figure size 640x480 with 1 Axes>"
            ],
            "image/png": "[encoded data removed]"
          },
          "metadata": {}
        }
      ]
    },
    {
      "cell_type": "code",
      "source": [
        "import matplotlib.pyplot as plt\n",
        "import numpy as np\n",
        "\n",
        "# Definir la figura y los ejes\n",
        "fig, ax = plt.subplots(1, 3, figsize=(15, 5))\n",
        "\n",
        "# Limites de los ejes\n",
        "limits = [-1.5, 1.5]\n",
        "\n",
        "# Colores\n",
        "colors = ['r', 'g', 'b']\n",
        "\n",
        "# 1. Bola en la norma \\ell^1 (rombo)\n",
        "p = 1\n",
        "t = np.linspace(-1, 1, 100)\n",
        "x1 = np.concatenate([t, t[::-1], -t, -t[::-1]])\n",
        "y1 = np.concatenate([1-np.abs(t), -(1-np.abs(t)), -1+np.abs(t), 1-np.abs(t)])\n",
        "ax[0].fill(x1, y1, colors[0], alpha=0.3)\n",
        "ax[0].plot(x1, y1, colors[0])\n",
        "ax[0].set_title(r'Bola $\\ell^1$')\n",
        "ax[0].set_xlim(limits)\n",
        "ax[0].set_ylim(limits)\n",
        "ax[0].set_aspect('equal')\n",
        "\n",
        "# 2. Bola en la norma \\ell^2 (círculo)\n",
        "p = 2\n",
        "theta = np.linspace(0, 2 * np.pi, 100)\n",
        "x2 = np.cos(theta)\n",
        "y2 = np.sin(theta)\n",
        "ax[1].fill(x2, y2, colors[1], alpha=0.3)\n",
        "ax[1].plot(x2, y2, colors[1])\n",
        "ax[1].set_title(r'Bola $\\ell^2$')\n",
        "ax[1].set_xlim(limits)\n",
        "ax[1].set_ylim(limits)\n",
        "ax[1].set_aspect('equal')\n",
        "\n",
        "# 3. Bola en la norma \\ell^\\infty (cuadrado)\n",
        "p = np.inf\n",
        "x3 = np.array([1, 1, -1, -1, 1])\n",
        "y3 = np.array([1, -1, -1, 1, 1])\n",
        "ax[2].fill(x3, y3, colors[2], alpha=0.3)\n",
        "ax[2].plot(x3, y3, colors[2])\n",
        "ax[2].set_title(r'Bola $\\ell^\\infty$')\n",
        "ax[2].set_xlim(limits)\n",
        "ax[2].set_ylim(limits)\n",
        "ax[2].set_aspect('equal')\n",
        "\n",
        "# Ajustar diseño\n",
        "plt.tight_layout()\n",
        "plt.show()\n"
      ],
      "metadata": {
        "id": "C_ioXBgxQ0V_",
        "outputId": "2bece5e4-9dde-44a1-e8ad-649d1fd82cf9",
        "colab": {
          "base_uri": "https://localhost:8080/",
          "height": 509
        }
      },
      "execution_count": null,
      "outputs": [
        {
          "output_type": "display_data",
          "data": {
            "text/plain": [
              "<Figure size 1500x500 with 3 Axes>"
            ],
            "image/png": "[encoded data removed]"
          },
          "metadata": {}
        }
      ]
    }
  ]
}
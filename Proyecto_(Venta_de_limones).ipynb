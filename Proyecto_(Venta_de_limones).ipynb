{
  "cells": [
    {
      "cell_type": "markdown",
      "id": "4adf59b2-de76-4b0f-94a1-978818b1d57e",
      "metadata": {
        "id": "4adf59b2-de76-4b0f-94a1-978818b1d57e"
      },
      "source": [
        "<font color=\"purple\" face=\"Comic Sans MS,arial\">\n",
        "  <h1 align=\"center\"><i>Proyecto Final</i></h1>\n",
        "  </font>\n",
        "  <font color=\"Black\" face=\"Comic Sans MS,arial\">\n",
        "  <h5 align=\"center\"><i>Profesor: M. en C. Miguel Angel Pérez León</i></h5>\n",
        "    <h5 align=\"center\"><i>Alumno: Vargas Bautista Emmanuel</i></h5>\n",
        "  <h5 align=\"center\"><i>Materia: Manejo de Datos</i></h5>\n",
        "  </font>"
      ]
    },
    {
      "cell_type": "markdown",
      "id": "1bfd4c26-73e0-4304-828f-fcde130c0541",
      "metadata": {
        "id": "1bfd4c26-73e0-4304-828f-fcde130c0541"
      },
      "source": [
        "# Paso 1 - Configurar nuestro entorno para el proyecto"
      ]
    },
    {
      "cell_type": "code",
      "execution_count": null,
      "id": "974f591a-fb32-4a4f-8dd5-e35ce2243fbe",
      "metadata": {
        "id": "974f591a-fb32-4a4f-8dd5-e35ce2243fbe",
        "outputId": "d6c0b16c-c9ba-43ab-f1f3-7dc7d27e521a",
        "colab": {
          "base_uri": "https://localhost:8080/"
        }
      },
      "outputs": [
        {
          "output_type": "stream",
          "name": "stdout",
          "text": [
            "Versión de PyTorch: 2.1.0+cu121\n",
            "Se detectó un dispositivo cuda.\n",
            "Nombre del dispositivo CUDA: Tesla T4\n"
          ]
        }
      ],
      "source": [
        "# Paso 1 - Configurar nuestro entorno\n",
        "\n",
        "# Importar bibliotecas de PyTorch\n",
        "import torch\n",
        "from torch import nn\n",
        "\n",
        "# Importar biblioteca de visualización\n",
        "import matplotlib.pyplot as plt\n",
        "\n",
        "# Verificar la versión de PyTorch\n",
        "print('Versión de PyTorch:', torch.__version__)\n",
        "\n",
        "# Paso 2 - Verificar la capacidad de procesamiento (CPU vs GPU)\n",
        "\n",
        "# Verificar si hay una GPU disponible\n",
        "device = 'cuda' if torch.cuda.is_available() else 'cpu'\n",
        "print('Se detectó un dispositivo {}.'.format(device))\n",
        "\n",
        "# Imprimir el nombre del dispositivo CUDA, si está disponible\n",
        "if device == 'cuda':\n",
        "    print('Nombre del dispositivo CUDA:', torch.cuda.get_device_name(device=device))"
      ]
    },
    {
      "cell_type": "markdown",
      "id": "8df1ccb3-cc8c-470b-9a7f-4bb98e2fde94",
      "metadata": {
        "id": "8df1ccb3-cc8c-470b-9a7f-4bb98e2fde94"
      },
      "source": [
        "# Paso 2 - Conexion a la base de datos y preparacion de los datos"
      ]
    },
    {
      "cell_type": "code",
      "execution_count": null,
      "id": "953243e1-5a53-440f-8f4f-9e891cd1c2d4",
      "metadata": {
        "id": "953243e1-5a53-440f-8f4f-9e891cd1c2d4",
        "outputId": "38db844c-ee85-4c1a-8a07-f15c6ee6a4e5"
      },
      "outputs": [
        {
          "name": "stdout",
          "output_type": "stream",
          "text": [
            "Collecting mysql-connector-python\n",
            "  Using cached mysql_connector_python-8.2.0-cp311-cp311-manylinux_2_17_x86_64.whl.metadata (2.1 kB)\n",
            "Collecting protobuf<=4.21.12,>=4.21.1 (from mysql-connector-python)\n",
            "  Using cached protobuf-4.21.12-cp37-abi3-manylinux2014_x86_64.whl (409 kB)\n",
            "Using cached mysql_connector_python-8.2.0-cp311-cp311-manylinux_2_17_x86_64.whl (31.6 MB)\n",
            "Installing collected packages: protobuf, mysql-connector-python\n",
            "Successfully installed mysql-connector-python-8.2.0 protobuf-4.21.12\n"
          ]
        }
      ],
      "source": [
        "!pip install mysql-connector-python\n",
        "# se importa la biblioteca necesaria\n",
        "import mysql.connector\n",
        "import pandas as pd\n",
        "import warnings\n",
        "# asignamos las credenciales de conexion y se establece la conexion\n",
        "host='hpc-matematicas-z.fciencias.unam.mx'\n",
        "user='JimmyNeutron'\n",
        "password='CarlSheen'\n",
        "database='LIMONADA'\n",
        "# se establece la conexión a la base de datos\n",
        "con = mysql.connector.connect(\n",
        "    host=host,\n",
        "    user=user,\n",
        "    password=password,\n",
        "    database=database\n",
        ")"
      ]
    },
    {
      "cell_type": "markdown",
      "id": "496f91a6-dac2-43aa-8f0f-67ffa09d8a6a",
      "metadata": {
        "id": "496f91a6-dac2-43aa-8f0f-67ffa09d8a6a"
      },
      "source": [
        "## Cargar los datos"
      ]
    },
    {
      "cell_type": "code",
      "execution_count": null,
      "id": "25269503-5245-4041-893d-872138c4537c",
      "metadata": {
        "id": "25269503-5245-4041-893d-872138c4537c",
        "outputId": "04fbf14f-4f84-4638-98cd-cdcf2b34c446"
      },
      "outputs": [
        {
          "name": "stderr",
          "output_type": "stream",
          "text": [
            "/tmp/ipykernel_185/2199681574.py:5: UserWarning: pandas only supports SQLAlchemy connectable (engine/connection) or database string URI or sqlite3 DBAPI2 connection. Other DBAPI2 objects are not tested. Please consider using SQLAlchemy.\n",
            "  df = pd.read_sql(query, con)\n"
          ]
        },
        {
          "data": {
            "text/html": [
              "<div>\n",
              "<style scoped>\n",
              "    .dataframe tbody tr th:only-of-type {\n",
              "        vertical-align: middle;\n",
              "    }\n",
              "\n",
              "    .dataframe tbody tr th {\n",
              "        vertical-align: top;\n",
              "    }\n",
              "\n",
              "    .dataframe thead th {\n",
              "        text-align: right;\n",
              "    }\n",
              "</style>\n",
              "<table border=\"1\" class=\"dataframe\">\n",
              "  <thead>\n",
              "    <tr style=\"text-align: right;\">\n",
              "      <th></th>\n",
              "      <th>id_venta</th>\n",
              "      <th>fin_semana</th>\n",
              "      <th>soleado</th>\n",
              "      <th>caluroso</th>\n",
              "      <th>quincena</th>\n",
              "      <th>precio</th>\n",
              "      <th>vendidos</th>\n",
              "    </tr>\n",
              "  </thead>\n",
              "  <tbody>\n",
              "    <tr>\n",
              "      <th>0</th>\n",
              "      <td>1</td>\n",
              "      <td>1</td>\n",
              "      <td>0</td>\n",
              "      <td>0</td>\n",
              "      <td>1</td>\n",
              "      <td>9.0</td>\n",
              "      <td>71.0</td>\n",
              "    </tr>\n",
              "    <tr>\n",
              "      <th>1</th>\n",
              "      <td>2</td>\n",
              "      <td>1</td>\n",
              "      <td>1</td>\n",
              "      <td>1</td>\n",
              "      <td>0</td>\n",
              "      <td>10.0</td>\n",
              "      <td>137.0</td>\n",
              "    </tr>\n",
              "    <tr>\n",
              "      <th>2</th>\n",
              "      <td>3</td>\n",
              "      <td>0</td>\n",
              "      <td>1</td>\n",
              "      <td>0</td>\n",
              "      <td>0</td>\n",
              "      <td>10.0</td>\n",
              "      <td>0.0</td>\n",
              "    </tr>\n",
              "    <tr>\n",
              "      <th>3</th>\n",
              "      <td>4</td>\n",
              "      <td>1</td>\n",
              "      <td>0</td>\n",
              "      <td>0</td>\n",
              "      <td>1</td>\n",
              "      <td>6.0</td>\n",
              "      <td>107.0</td>\n",
              "    </tr>\n",
              "    <tr>\n",
              "      <th>4</th>\n",
              "      <td>5</td>\n",
              "      <td>1</td>\n",
              "      <td>0</td>\n",
              "      <td>0</td>\n",
              "      <td>1</td>\n",
              "      <td>8.0</td>\n",
              "      <td>80.0</td>\n",
              "    </tr>\n",
              "    <tr>\n",
              "      <th>5</th>\n",
              "      <td>6</td>\n",
              "      <td>1</td>\n",
              "      <td>1</td>\n",
              "      <td>0</td>\n",
              "      <td>0</td>\n",
              "      <td>6.0</td>\n",
              "      <td>110.0</td>\n",
              "    </tr>\n",
              "    <tr>\n",
              "      <th>6</th>\n",
              "      <td>7</td>\n",
              "      <td>1</td>\n",
              "      <td>1</td>\n",
              "      <td>1</td>\n",
              "      <td>0</td>\n",
              "      <td>8.0</td>\n",
              "      <td>167.0</td>\n",
              "    </tr>\n",
              "    <tr>\n",
              "      <th>7</th>\n",
              "      <td>8</td>\n",
              "      <td>0</td>\n",
              "      <td>0</td>\n",
              "      <td>1</td>\n",
              "      <td>1</td>\n",
              "      <td>8.0</td>\n",
              "      <td>0.0</td>\n",
              "    </tr>\n",
              "    <tr>\n",
              "      <th>8</th>\n",
              "      <td>9</td>\n",
              "      <td>1</td>\n",
              "      <td>0</td>\n",
              "      <td>1</td>\n",
              "      <td>0</td>\n",
              "      <td>8.0</td>\n",
              "      <td>124.0</td>\n",
              "    </tr>\n",
              "    <tr>\n",
              "      <th>9</th>\n",
              "      <td>10</td>\n",
              "      <td>1</td>\n",
              "      <td>1</td>\n",
              "      <td>0</td>\n",
              "      <td>0</td>\n",
              "      <td>7.0</td>\n",
              "      <td>95.0</td>\n",
              "    </tr>\n",
              "  </tbody>\n",
              "</table>\n",
              "</div>"
            ],
            "text/plain": [
              "   id_venta  fin_semana  soleado  caluroso  quincena  precio  vendidos\n",
              "0         1           1        0         0         1     9.0      71.0\n",
              "1         2           1        1         1         0    10.0     137.0\n",
              "2         3           0        1         0         0    10.0       0.0\n",
              "3         4           1        0         0         1     6.0     107.0\n",
              "4         5           1        0         0         1     8.0      80.0\n",
              "5         6           1        1         0         0     6.0     110.0\n",
              "6         7           1        1         1         0     8.0     167.0\n",
              "7         8           0        0         1         1     8.0       0.0\n",
              "8         9           1        0         1         0     8.0     124.0\n",
              "9        10           1        1         0         0     7.0      95.0"
            ]
          },
          "execution_count": 4,
          "metadata": {},
          "output_type": "execute_result"
        }
      ],
      "source": [
        "\n",
        "# Consulta SQL para seleccionar todos los datos de la tabla \"ventas_limones\"\n",
        "query = \"SELECT * FROM VENTAS\"\n",
        "\n",
        "# Cargar los datos desde la base de datos en un DataFrame de Pandas\n",
        "df = pd.read_sql(query, con)\n",
        "\n",
        "# Explorar las primeras 10 filas del conjunto de datos\n",
        "df.head(10)\n",
        "\n",
        "# Verificar el tamaño/forma de nuestro conjunto de datos\n",
        "#df.shape\n"
      ]
    },
    {
      "cell_type": "markdown",
      "id": "1af05ff9-c8c5-44fb-9dce-af05231cd683",
      "metadata": {
        "id": "1af05ff9-c8c5-44fb-9dce-af05231cd683"
      },
      "source": [
        "## Estandarizacion"
      ]
    },
    {
      "cell_type": "code",
      "execution_count": null,
      "id": "f95f66d5-879d-4ae7-b0ce-92da78fa5717",
      "metadata": {
        "id": "f95f66d5-879d-4ae7-b0ce-92da78fa5717",
        "outputId": "f3116d38-dcf4-425b-acdb-ce127083ae6e"
      },
      "outputs": [
        {
          "name": "stdout",
          "output_type": "stream",
          "text": [
            "Primeras 5 entradas:\n",
            "tensor([[ 1.0000,  0.0000,  0.0000,  1.0000,  0.8467],\n",
            "        [ 1.0000,  1.0000,  1.0000,  0.0000,  1.4526],\n",
            "        [ 0.0000,  1.0000,  0.0000,  0.0000,  1.4526],\n",
            "        [ 1.0000,  0.0000,  0.0000,  1.0000, -0.9712],\n",
            "        [ 1.0000,  0.0000,  0.0000,  1.0000,  0.2407]])\n",
            "\n",
            "Primeras 5 salidas:\n",
            "tensor([[-0.0237],\n",
            "        [ 0.7437],\n",
            "        [-0.8492],\n",
            "        [ 0.3949],\n",
            "        [ 0.0810]])\n"
          ]
        },
        {
          "data": {
            "text/html": [
              "<div>\n",
              "<style scoped>\n",
              "    .dataframe tbody tr th:only-of-type {\n",
              "        vertical-align: middle;\n",
              "    }\n",
              "\n",
              "    .dataframe tbody tr th {\n",
              "        vertical-align: top;\n",
              "    }\n",
              "\n",
              "    .dataframe thead th {\n",
              "        text-align: right;\n",
              "    }\n",
              "</style>\n",
              "<table border=\"1\" class=\"dataframe\">\n",
              "  <thead>\n",
              "    <tr style=\"text-align: right;\">\n",
              "      <th></th>\n",
              "      <th>id_venta</th>\n",
              "      <th>fin_semana</th>\n",
              "      <th>soleado</th>\n",
              "      <th>caluroso</th>\n",
              "      <th>quincena</th>\n",
              "      <th>precio</th>\n",
              "      <th>vendidos</th>\n",
              "    </tr>\n",
              "  </thead>\n",
              "  <tbody>\n",
              "    <tr>\n",
              "      <th>0</th>\n",
              "      <td>1</td>\n",
              "      <td>1</td>\n",
              "      <td>0</td>\n",
              "      <td>0</td>\n",
              "      <td>1</td>\n",
              "      <td>0.846650</td>\n",
              "      <td>-0.023669</td>\n",
              "    </tr>\n",
              "    <tr>\n",
              "      <th>1</th>\n",
              "      <td>2</td>\n",
              "      <td>1</td>\n",
              "      <td>1</td>\n",
              "      <td>1</td>\n",
              "      <td>0</td>\n",
              "      <td>1.452587</td>\n",
              "      <td>0.743734</td>\n",
              "    </tr>\n",
              "    <tr>\n",
              "      <th>2</th>\n",
              "      <td>3</td>\n",
              "      <td>0</td>\n",
              "      <td>1</td>\n",
              "      <td>0</td>\n",
              "      <td>0</td>\n",
              "      <td>1.452587</td>\n",
              "      <td>-0.849208</td>\n",
              "    </tr>\n",
              "    <tr>\n",
              "      <th>3</th>\n",
              "      <td>4</td>\n",
              "      <td>1</td>\n",
              "      <td>0</td>\n",
              "      <td>0</td>\n",
              "      <td>1</td>\n",
              "      <td>-0.971158</td>\n",
              "      <td>0.394915</td>\n",
              "    </tr>\n",
              "    <tr>\n",
              "      <th>4</th>\n",
              "      <td>5</td>\n",
              "      <td>1</td>\n",
              "      <td>0</td>\n",
              "      <td>0</td>\n",
              "      <td>1</td>\n",
              "      <td>0.240714</td>\n",
              "      <td>0.080977</td>\n",
              "    </tr>\n",
              "    <tr>\n",
              "      <th>5</th>\n",
              "      <td>6</td>\n",
              "      <td>1</td>\n",
              "      <td>1</td>\n",
              "      <td>0</td>\n",
              "      <td>0</td>\n",
              "      <td>-0.971158</td>\n",
              "      <td>0.429797</td>\n",
              "    </tr>\n",
              "    <tr>\n",
              "      <th>6</th>\n",
              "      <td>7</td>\n",
              "      <td>1</td>\n",
              "      <td>1</td>\n",
              "      <td>1</td>\n",
              "      <td>0</td>\n",
              "      <td>0.240714</td>\n",
              "      <td>1.092554</td>\n",
              "    </tr>\n",
              "    <tr>\n",
              "      <th>7</th>\n",
              "      <td>8</td>\n",
              "      <td>0</td>\n",
              "      <td>0</td>\n",
              "      <td>1</td>\n",
              "      <td>1</td>\n",
              "      <td>0.240714</td>\n",
              "      <td>-0.849208</td>\n",
              "    </tr>\n",
              "    <tr>\n",
              "      <th>8</th>\n",
              "      <td>9</td>\n",
              "      <td>1</td>\n",
              "      <td>0</td>\n",
              "      <td>1</td>\n",
              "      <td>0</td>\n",
              "      <td>0.240714</td>\n",
              "      <td>0.592579</td>\n",
              "    </tr>\n",
              "    <tr>\n",
              "      <th>9</th>\n",
              "      <td>10</td>\n",
              "      <td>1</td>\n",
              "      <td>1</td>\n",
              "      <td>0</td>\n",
              "      <td>0</td>\n",
              "      <td>-0.365222</td>\n",
              "      <td>0.255387</td>\n",
              "    </tr>\n",
              "  </tbody>\n",
              "</table>\n",
              "</div>"
            ],
            "text/plain": [
              "   id_venta  fin_semana  soleado  caluroso  quincena    precio  vendidos\n",
              "0         1           1        0         0         1  0.846650 -0.023669\n",
              "1         2           1        1         1         0  1.452587  0.743734\n",
              "2         3           0        1         0         0  1.452587 -0.849208\n",
              "3         4           1        0         0         1 -0.971158  0.394915\n",
              "4         5           1        0         0         1  0.240714  0.080977\n",
              "5         6           1        1         0         0 -0.971158  0.429797\n",
              "6         7           1        1         1         0  0.240714  1.092554\n",
              "7         8           0        0         1         1  0.240714 -0.849208\n",
              "8         9           1        0         1         0  0.240714  0.592579\n",
              "9        10           1        1         0         0 -0.365222  0.255387"
            ]
          },
          "execution_count": 5,
          "metadata": {},
          "output_type": "execute_result"
        }
      ],
      "source": [
        "\n",
        "# Estandarizar las columnas 'Price' y 'NumberSold'\n",
        "price_mean = df['precio'].mean()\n",
        "price_std = df['precio'].std()\n",
        "df['precio'] = (df['precio'] - price_mean) / price_std\n",
        "\n",
        "num_sold_mean = df['vendidos'].mean()\n",
        "num_sold_std = df['vendidos'].std()\n",
        "df['vendidos'] = (df['vendidos'] - num_sold_mean) / num_sold_std\n",
        "\n",
        "# Crear tensores de PyTorch y moverlos a la CPU o GPU si está disponible\n",
        "inputs = ['fin_semana', 'soleado', 'caluroso', 'quincena', 'precio']\n",
        "x = torch.tensor(df[inputs].values, dtype=torch.float)\n",
        "\n",
        "outputs = ['vendidos']\n",
        "y = torch.tensor(df[outputs].values, dtype=torch.float)\n",
        "\n",
        "# Explorar las primeras 5 entradas y salidas\n",
        "print(\"Primeras 5 entradas:\")\n",
        "print(x[0:5])\n",
        "\n",
        "print(\"\\nPrimeras 5 salidas:\")\n",
        "print(y[0:5])\n",
        "\n",
        "#Visualisar los datos estandarizados\n",
        "df.head(10)\n"
      ]
    },
    {
      "cell_type": "markdown",
      "id": "170b0804-d995-4a9e-9551-b98c3547e07c",
      "metadata": {
        "id": "170b0804-d995-4a9e-9551-b98c3547e07c"
      },
      "source": [
        "# Construir la red neuronal"
      ]
    },
    {
      "cell_type": "code",
      "execution_count": null,
      "id": "6e609496-5c30-4bff-ba6b-4d344452a3b8",
      "metadata": {
        "id": "6e609496-5c30-4bff-ba6b-4d344452a3b8",
        "outputId": "a498b250-a387-4a7d-eeec-faf568f1373f"
      },
      "outputs": [
        {
          "data": {
            "text/plain": [
              "Sequential(\n",
              "  (0): Linear(in_features=5, out_features=100, bias=True)\n",
              "  (1): ReLU()\n",
              "  (2): Linear(in_features=100, out_features=1, bias=True)\n",
              ")"
            ]
          },
          "execution_count": 6,
          "metadata": {},
          "output_type": "execute_result"
        }
      ],
      "source": [
        "import torch\n",
        "import torch.nn as nn\n",
        "\n",
        "# Define tu red neuronal en PyTorch\n",
        "# Número de entradas: 5\n",
        "# Número de unidades ocultas: 100\n",
        "# Número de capas ocultas: 1\n",
        "# Función de activación: ReLU\n",
        "# Número de salidas: 1\n",
        "\n",
        "model = nn.Sequential(\n",
        "    nn.Linear(5, 100),\n",
        "    nn.ReLU(),\n",
        "    nn.Linear(100, 1)\n",
        ")\n",
        "\n",
        "# Mueve el modelo a la CPU o GPU según la disponibilidad\n",
        "device = torch.device(\"cuda\" if torch.cuda.is_available() else \"cpu\")\n",
        "model.to(device)\n"
      ]
    },
    {
      "cell_type": "markdown",
      "id": "12e5d8b4-07cd-49cc-b29a-2683a55662fd",
      "metadata": {
        "id": "12e5d8b4-07cd-49cc-b29a-2683a55662fd"
      },
      "source": [
        "## Entrenamiento"
      ]
    },
    {
      "cell_type": "code",
      "execution_count": null,
      "id": "737bc013-a99f-41ee-8ba7-3477f11a96d6",
      "metadata": {
        "id": "737bc013-a99f-41ee-8ba7-3477f11a96d6",
        "outputId": "84ce1ac5-6d78-41e3-f98b-fbd3edf9618e"
      },
      "outputs": [
        {
          "name": "stdout",
          "output_type": "stream",
          "text": [
            "Época 1, Pérdida Total: 91.6505\n",
            "Época 2, Pérdida Total: 11.5847\n",
            "Época 3, Pérdida Total: 6.8408\n",
            "Época 4, Pérdida Total: 5.6437\n",
            "Época 5, Pérdida Total: 4.7520\n"
          ]
        }
      ],
      "source": [
        "import torch.optim as optim\n",
        "\n",
        "# Medir nuestra red neuronal mediante el error cuadrático medio (MSE)\n",
        "criterion = torch.nn.MSELoss()\n",
        "\n",
        "# Entrenar nuestra red con un optimizador SGD simple\n",
        "optimizer = optim.SGD(model.parameters(), lr=0.01, momentum=0.9)\n",
        "\n",
        "# Entrenar nuestra red utilizando el conjunto de datos completo 5 veces (5 épocas)\n",
        "for epoch in range(5):\n",
        "    total_loss = 0\n",
        "\n",
        "    # Iterar sobre cada ejemplo en el conjunto de datos\n",
        "    for i in range(len(x)):\n",
        "        # Pase hacia adelante único (Forward Pass)\n",
        "        y_pred = model(x[i])\n",
        "\n",
        "        # Medir qué tan bien el modelo predijo en comparación con el valor real\n",
        "        loss = criterion(y_pred, y[i])\n",
        "\n",
        "        # Seguir qué tan bien el modelo predijo (llamado pérdida)\n",
        "        total_loss += loss.item()\n",
        "\n",
        "        # Actualizar la red neuronal (Backward Pass y Optimización)\n",
        "        optimizer.zero_grad()\n",
        "        loss.backward()\n",
        "        optimizer.step()\n",
        "\n",
        "    # Imprimir nuestra pérdida después de cada iteración de entrenamiento\n",
        "    print(\"Época {}, Pérdida Total: {:.4f}\".format(epoch + 1, total_loss))\n"
      ]
    },
    {
      "cell_type": "markdown",
      "id": "e49d5d2d-9d1e-431d-946b-ecb3ca5f7c27",
      "metadata": {
        "id": "e49d5d2d-9d1e-431d-946b-ecb3ca5f7c27"
      },
      "source": [
        "## Analisis de los resultados"
      ]
    },
    {
      "cell_type": "code",
      "execution_count": null,
      "id": "4535bad2-de57-4699-9e0c-05d2673c8f38",
      "metadata": {
        "id": "4535bad2-de57-4699-9e0c-05d2673c8f38",
        "outputId": "61c0c956-b1a7-4699-db39-b327e1ab0b68"
      },
      "outputs": [
        {
          "data": {
            "image/png": "[encoded data removed]",
            "text/plain": [
              "<Figure size 640x480 with 1 Axes>"
            ]
          },
          "metadata": {},
          "output_type": "display_data"
        }
      ],
      "source": [
        "import matplotlib.pyplot as plt\n",
        "\n",
        "@torch.no_grad()\n",
        "def graphPredictions(model, x, y, minValue, maxValue):\n",
        "    model.eval()  # Establecer el modelo en modo de inferencia\n",
        "\n",
        "    predictions = []  # Seguimiento de las predicciones\n",
        "    actual = []  # Seguimiento de las etiquetas reales\n",
        "\n",
        "    x.to(device)\n",
        "    y.to(device)\n",
        "    model.to(device)\n",
        "\n",
        "    for i in range(len(x)):\n",
        "        # Pase hacia adelante único (sin cálculo de gradientes)\n",
        "        pred = model(x[i])\n",
        "\n",
        "        # Desnormalizar la predicción\n",
        "        pred = pred * num_sold_std + num_sold_mean\n",
        "        act = y[i] * num_sold_std + num_sold_mean\n",
        "\n",
        "        # Guardar la predicción y la etiqueta real\n",
        "        predictions.append(pred.tolist())\n",
        "        actual.append(act.item())\n",
        "\n",
        "    # Graficar reales vs predicciones\n",
        "    plt.scatter(actual, predictions)\n",
        "    plt.xlabel('Limonadas Vendidas Reales')\n",
        "    plt.ylabel('Limonadas Predichas')\n",
        "    plt.plot([minValue, maxValue], [minValue, maxValue], linestyle='--', color='red')  # Línea de referencia (y=x)\n",
        "    plt.xlim(minValue, maxValue)\n",
        "    plt.ylim(minValue, maxValue)\n",
        "\n",
        "    # Ajustar la visualización para que sea igual en ambas dimensiones\n",
        "    plt.gca().set_aspect('equal', adjustable='box')\n",
        "    plt.show()\n",
        "\n",
        "# Llamar a la función para graficar las predicciones\n",
        "graphPredictions(model, x, y, 0, 300)\n"
      ]
    },
    {
      "cell_type": "markdown",
      "id": "9152d7a2-86b0-4982-a322-1599cfd4d2e3",
      "metadata": {
        "id": "9152d7a2-86b0-4982-a322-1599cfd4d2e3"
      },
      "source": [
        "# Vercion un poco mejorada"
      ]
    },
    {
      "cell_type": "markdown",
      "id": "25e0d258-2262-4322-b753-1dae4e2fa8e1",
      "metadata": {
        "id": "25e0d258-2262-4322-b753-1dae4e2fa8e1"
      },
      "source": [
        "Para mejorar un poco mas la creacion de la red neuronal lo primero que podemos hacer es modificar la arquitectura de la red de tal manera que vamos a experimentar con arquitecturas de red más complejas o más simples según el tamaño de los datos y la complejidad del problema. Podemos agregar capas, cambiar el número de unidades ocultas o probar diferentes funciones de activación.\n",
        "\n",
        "Algunas cosas que ademas hice fue:\n",
        "\n",
        "- Dividir el conjunto de datos en un conjunto de entrenamiento, validación y prueba\n",
        "\n",
        "- Experimentar con diferentes tasas de aprendizaje para encontrar el valor que funcione mejor para tu problema. Puedes probar con valores más pequeños o más grandes para observar cómo afectan el rendimiento de la red.\n",
        "\n",
        "\n"
      ]
    },
    {
      "cell_type": "code",
      "execution_count": null,
      "id": "89048e71-231e-47a6-8443-cde6f51da9ce",
      "metadata": {
        "id": "89048e71-231e-47a6-8443-cde6f51da9ce",
        "outputId": "3ec71e29-f008-4568-aefe-86adcbe19332"
      },
      "outputs": [
        {
          "name": "stderr",
          "output_type": "stream",
          "text": [
            "/tmp/ipykernel_185/4226329835.py:15: UserWarning: To copy construct from a tensor, it is recommended to use sourceTensor.clone().detach() or sourceTensor.clone().detach().requires_grad_(True), rather than torch.tensor(sourceTensor).\n",
            "  x_train, y_train = torch.tensor(x_train), torch.tensor(y_train)\n",
            "/tmp/ipykernel_185/4226329835.py:16: UserWarning: To copy construct from a tensor, it is recommended to use sourceTensor.clone().detach() or sourceTensor.clone().detach().requires_grad_(True), rather than torch.tensor(sourceTensor).\n",
            "  x_val, y_val = torch.tensor(x_val), torch.tensor(y_val)\n",
            "/tmp/ipykernel_185/4226329835.py:17: UserWarning: To copy construct from a tensor, it is recommended to use sourceTensor.clone().detach() or sourceTensor.clone().detach().requires_grad_(True), rather than torch.tensor(sourceTensor).\n",
            "  x_test, y_test = torch.tensor(x_test), torch.tensor(y_test)\n"
          ]
        }
      ],
      "source": [
        "import torch\n",
        "import torch.nn as nn\n",
        "import torch.optim as optim\n",
        "from torch.utils.data import DataLoader, TensorDataset\n",
        "from sklearn.model_selection import train_test_split\n",
        "\n",
        "# Supongamos que tienes tensores de entrada (x) y etiquetas (y)\n",
        "# x e y deben ser tensores de PyTorch\n",
        "\n",
        "# Dividir los datos en entrenamiento, validación y prueba\n",
        "x_train, x_temp, y_train, y_temp = train_test_split(x, y, test_size=0.3, random_state=42)\n",
        "x_val, x_test, y_val, y_test = train_test_split(x_temp, y_temp, test_size=0.5, random_state=42)\n",
        "\n",
        "# Convertir datos a tensores de PyTorch\n",
        "x_train, y_train = torch.tensor(x_train), torch.tensor(y_train)\n",
        "x_val, y_val = torch.tensor(x_val), torch.tensor(y_val)\n",
        "x_test, y_test = torch.tensor(x_test), torch.tensor(y_test)\n",
        "\n",
        "# Crear conjuntos de datos y dataloaders\n",
        "train_dataset = TensorDataset(x_train, y_train)\n",
        "val_dataset = TensorDataset(x_val, y_val)\n",
        "test_dataset = TensorDataset(x_test, y_test)\n",
        "\n",
        "batch_size = 4  # ajusta según tus necesidades\n",
        "train_loader = DataLoader(train_dataset, batch_size=batch_size, shuffle=True)\n",
        "val_loader = DataLoader(val_dataset, batch_size=batch_size)\n",
        "test_loader = DataLoader(test_dataset, batch_size=batch_size)"
      ]
    },
    {
      "cell_type": "code",
      "execution_count": null,
      "id": "4768ba6e-5f4d-46dc-bd82-3303593bf637",
      "metadata": {
        "id": "4768ba6e-5f4d-46dc-bd82-3303593bf637",
        "outputId": "58b0c477-8345-43e7-97c5-f0cf346b3b1c"
      },
      "outputs": [
        {
          "data": {
            "text/plain": [
              "Sequential(\n",
              "  (0): Linear(in_features=5, out_features=100, bias=True)\n",
              "  (1): ReLU()\n",
              "  (2): Linear(in_features=100, out_features=50, bias=True)\n",
              "  (3): ReLU()\n",
              "  (4): Linear(in_features=50, out_features=1, bias=True)\n",
              ")"
            ]
          },
          "execution_count": 11,
          "metadata": {},
          "output_type": "execute_result"
        }
      ],
      "source": [
        "import torch\n",
        "import torch.nn as nn\n",
        "\n",
        "# Define tu red neuronal en PyTorch\n",
        "# Número de entradas: 5\n",
        "# Número de unidades ocultas: 100\n",
        "# Número de capas ocultas: 1\n",
        "# Función de activación: ReLU\n",
        "# Número de salidas: 1\n",
        "\n",
        "# Define tu red neuronal en PyTorch\n",
        "model = nn.Sequential(\n",
        "    nn.Linear(5, 100),\n",
        "    nn.ReLU(),\n",
        "    nn.Linear(100, 50),  # Agregar una capa adicional\n",
        "    nn.ReLU(),\n",
        "    nn.Linear(50, 1)\n",
        ")\n",
        "\n",
        "\n",
        "# Mueve el modelo a la CPU o GPU según la disponibilidad\n",
        "device = torch.device(\"cuda\" if torch.cuda.is_available() else \"cpu\")\n",
        "model.to(device)\n"
      ]
    },
    {
      "cell_type": "code",
      "execution_count": null,
      "id": "8b045a63-1952-4005-b285-0051ca3126c7",
      "metadata": {
        "id": "8b045a63-1952-4005-b285-0051ca3126c7",
        "outputId": "74166fca-bb8d-4eaf-fad1-c2b2af4dfb78"
      },
      "outputs": [
        {
          "name": "stdout",
          "output_type": "stream",
          "text": [
            "Época 1, Pérdida Total: 27.6446\n",
            "Época 2, Pérdida Total: 5.2237\n",
            "Época 3, Pérdida Total: 0.9940\n",
            "Época 4, Pérdida Total: 0.7804\n",
            "Época 5, Pérdida Total: 0.7002\n",
            "Época 6, Pérdida Total: 0.4112\n",
            "Época 7, Pérdida Total: 0.3315\n",
            "Época 8, Pérdida Total: 0.1823\n",
            "Época 9, Pérdida Total: 0.1503\n",
            "Época 10, Pérdida Total: 0.0915\n",
            "Época 11, Pérdida Total: 0.1990\n",
            "Época 12, Pérdida Total: 0.0970\n",
            "Época 13, Pérdida Total: 0.0901\n",
            "Época 14, Pérdida Total: 0.0713\n",
            "Época 15, Pérdida Total: 0.0573\n",
            "Época 16, Pérdida Total: 0.0748\n",
            "Época 17, Pérdida Total: 0.0311\n",
            "Época 18, Pérdida Total: 0.0586\n",
            "Época 19, Pérdida Total: 0.0354\n",
            "Época 20, Pérdida Total: 0.0237\n",
            "Época 21, Pérdida Total: 0.0178\n",
            "Época 22, Pérdida Total: 0.0414\n",
            "Época 23, Pérdida Total: 0.0248\n",
            "Época 24, Pérdida Total: 0.0231\n",
            "Época 25, Pérdida Total: 0.0160\n",
            "Época 26, Pérdida Total: 0.0151\n",
            "Época 27, Pérdida Total: 0.0097\n",
            "Época 28, Pérdida Total: 0.0109\n",
            "Época 29, Pérdida Total: 0.0189\n",
            "Época 30, Pérdida Total: 0.0115\n",
            "Época 31, Pérdida Total: 0.0057\n",
            "Época 32, Pérdida Total: 0.0086\n",
            "Época 33, Pérdida Total: 0.0067\n",
            "Época 34, Pérdida Total: 0.0055\n",
            "Época 35, Pérdida Total: 0.0043\n",
            "Época 36, Pérdida Total: 0.0038\n",
            "Época 37, Pérdida Total: 0.0042\n",
            "Época 38, Pérdida Total: 0.0077\n",
            "Época 39, Pérdida Total: 0.0066\n",
            "Época 40, Pérdida Total: 0.0037\n",
            "Época 41, Pérdida Total: 0.0027\n",
            "Época 42, Pérdida Total: 0.0037\n",
            "Época 43, Pérdida Total: 0.0043\n",
            "Época 44, Pérdida Total: 0.0025\n",
            "Época 45, Pérdida Total: 0.0022\n",
            "Época 46, Pérdida Total: 0.0039\n",
            "Época 47, Pérdida Total: 0.0040\n",
            "Época 48, Pérdida Total: 0.0024\n",
            "Época 49, Pérdida Total: 0.0035\n",
            "Época 50, Pérdida Total: 0.0023\n"
          ]
        }
      ],
      "source": [
        "# Medir nuestra red neuronal mediante el error cuadrático medio (MSE)\n",
        "criterion = torch.nn.MSELoss()\n",
        "\n",
        "# Entrenar nuestra red con un optimizador SGD simple\n",
        "optimizer = optim.SGD(model.parameters(), lr=0.01, momentum=0.9)\n",
        "\n",
        "# Entrenar nuestra red utilizando el conjunto de datos completo 5 veces (5 épocas)\n",
        "for epoch in range(50):\n",
        "    total_loss = 0\n",
        "\n",
        "    # Iterar sobre cada lote en el conjunto de entrenamiento\n",
        "    for inputs, labels in train_loader:\n",
        "        inputs, labels = inputs.to(device), labels.to(device)\n",
        "\n",
        "        # Pase hacia adelante único (Forward Pass)\n",
        "        y_pred = model(inputs)\n",
        "\n",
        "        # Medir qué tan bien el modelo predijo en comparación con el valor real\n",
        "        loss = criterion(y_pred, labels)\n",
        "\n",
        "        # Seguir qué tan bien el modelo predijo (llamado pérdida)\n",
        "        total_loss += loss.item()\n",
        "\n",
        "        # Actualizar la red neuronal (Backward Pass y Optimización)\n",
        "        optimizer.zero_grad()\n",
        "        loss.backward()\n",
        "        optimizer.step()\n",
        "\n",
        "    # Imprimir nuestra pérdida después de cada iteración de entrenamiento\n",
        "    print(\"Época {}, Pérdida Total: {:.4f}\".format(epoch + 1, total_loss))\n"
      ]
    },
    {
      "cell_type": "code",
      "execution_count": null,
      "id": "88e55498-f7be-4262-baa6-220e61a9a742",
      "metadata": {
        "id": "88e55498-f7be-4262-baa6-220e61a9a742",
        "outputId": "14a176d2-6d06-451e-fee5-9d453c08e244"
      },
      "outputs": [
        {
          "data": {
            "image/png": "[encoded data removed]",
            "text/plain": [
              "<Figure size 640x480 with 1 Axes>"
            ]
          },
          "metadata": {},
          "output_type": "display_data"
        }
      ],
      "source": [
        "import matplotlib.pyplot as plt\n",
        "\n",
        "@torch.no_grad()\n",
        "def graphPredictions(model, x, y, minValue, maxValue, num_sold_mean, num_sold_std):\n",
        "    model.eval()  # Establecer el modelo en modo de inferencia\n",
        "\n",
        "    predictions = []  # Seguimiento de las predicciones\n",
        "    actual = []  # Seguimiento de las etiquetas reales\n",
        "\n",
        "    # Mover tensores al dispositivo\n",
        "    x = x.to(device)\n",
        "    y = y.to(device)\n",
        "    model.to(device)\n",
        "\n",
        "    for i in range(len(x)):\n",
        "        # Pase hacia adelante único (sin cálculo de gradientes)\n",
        "        pred = model(x[i])\n",
        "\n",
        "        # Desnormalizar la predicción y la etiqueta real\n",
        "        pred = pred * num_sold_std + num_sold_mean\n",
        "        act = y[i] * num_sold_std + num_sold_mean\n",
        "\n",
        "        # Guardar la predicción y la etiqueta real\n",
        "        predictions.append(pred.item())\n",
        "        actual.append(act.item())\n",
        "\n",
        "    # Graficar reales vs predicciones\n",
        "    plt.scatter(actual, predictions)\n",
        "    plt.xlabel('Limonadas Vendidas Reales')\n",
        "    plt.ylabel('Limonadas Predichas')\n",
        "    plt.plot([minValue, maxValue], [minValue, maxValue], linestyle='--', color='red')  # Línea de referencia (y=x)\n",
        "    plt.xlim(minValue, maxValue)\n",
        "    plt.ylim(minValue, maxValue)\n",
        "\n",
        "    # Ajustar la visualización para que sea igual en ambas dimensiones\n",
        "    plt.gca().set_aspect('equal', adjustable='box')\n",
        "    plt.show()\n",
        "\n",
        "# Llamar a la función para graficar las predicciones\n",
        "graphPredictions(model, x, y, 0, 300, num_sold_mean, num_sold_std)\n"
      ]
    },
    {
      "cell_type": "markdown",
      "id": "37bc2843-ac04-40df-ab0e-246f60cf78ef",
      "metadata": {
        "id": "37bc2843-ac04-40df-ab0e-246f60cf78ef"
      },
      "source": [
        "# Crear el Json"
      ]
    },
    {
      "cell_type": "code",
      "execution_count": null,
      "id": "bf081460-a0fb-46d9-baef-1f96a5765aa3",
      "metadata": {
        "id": "bf081460-a0fb-46d9-baef-1f96a5765aa3",
        "outputId": "7daf01cc-ea81-4623-9cf3-f8416d9e8c87"
      },
      "outputs": [
        {
          "name": "stdout",
          "output_type": "stream",
          "text": [
            "Archivo 'Predicciones.json' generado con éxito.\n"
          ]
        }
      ],
      "source": [
        "import json\n",
        "\n",
        "# Obtener las predicciones y datos reales\n",
        "predictions = []\n",
        "for i in range(len(y)):\n",
        "    # Pase hacia adelante único para obtener la predicción\n",
        "    pred = model(x[i].unsqueeze(0).to(device)).item()\n",
        "\n",
        "    # Desnormalizar la predicción y el dato real\n",
        "    pred = pred * num_sold_std + num_sold_mean\n",
        "    actual_value = y[i] * num_sold_std + num_sold_mean\n",
        "\n",
        "    # Crear el diccionario de predicción\n",
        "    prediction_data = {\n",
        "        \"dato\": i,\n",
        "        \"red neuronal\": pred,\n",
        "        \"dato real\": actual_value.item()\n",
        "    }\n",
        "\n",
        "    # Agregar el diccionario a la lista de predicciones\n",
        "    predictions.append(prediction_data)\n",
        "\n",
        "# Crear el diccionario final\n",
        "result_dict = {\"predicciones\": predictions}\n",
        "\n",
        "# Guardar el diccionario en un archivo JSON\n",
        "with open(\"Predicciones.json\", \"w\") as json_file:\n",
        "    json.dump(result_dict, json_file, indent=2)\n",
        "\n",
        "print(\"Archivo 'Predicciones.json' generado con éxito.\")\n"
      ]
    },
    {
      "cell_type": "code",
      "execution_count": null,
      "id": "d357d7fe-bc2d-4691-af9b-69135bd07be2",
      "metadata": {
        "id": "d357d7fe-bc2d-4691-af9b-69135bd07be2"
      },
      "outputs": [],
      "source": []
    }
  ],
  "metadata": {
    "kernelspec": {
      "display_name": "Python 3",
      "name": "python3"
    },
    "language_info": {
      "codemirror_mode": {
        "name": "ipython",
        "version": 3
      },
      "file_extension": ".py",
      "mimetype": "text/x-python",
      "name": "python",
      "nbconvert_exporter": "python",
      "pygments_lexer": "ipython3",
      "version": "3.11.6"
    },
    "colab": {
      "provenance": [],
      "gpuType": "T4"
    },
    "accelerator": "GPU"
  },
  "nbformat": 4,
  "nbformat_minor": 5
}